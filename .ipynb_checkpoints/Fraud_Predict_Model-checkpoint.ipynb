{
 "cells": [
  {
   "cell_type": "markdown",
   "id": "0d445325",
   "metadata": {},
   "source": [
    "#  Fraud Prediction Model for predicting fraudulent transactions for a financial company"
   ]
  },
  {
   "cell_type": "markdown",
   "id": "d19b4292",
   "metadata": {},
   "source": [
    "## Libraries"
   ]
  },
  {
   "cell_type": "code",
   "execution_count": 1,
   "id": "db87f529",
   "metadata": {
    "ExecuteTime": {
     "end_time": "2022-05-26T18:46:54.904520Z",
     "start_time": "2022-05-26T18:46:52.724029Z"
    }
   },
   "outputs": [],
   "source": [
    "from sklearn.model_selection import train_test_split\n",
    "from sklearn.linear_model import LogisticRegression\n",
    "from sklearn.neighbors import KNeighborsClassifier\n",
    "from sklearn.tree import DecisionTreeClassifier\n",
    "from sklearn.preprocessing import LabelEncoder\n",
    "import pandas as pd\n",
    "from xgboost import XGBClassifier\n",
    "import matplotlib.pyplot as plt\n",
    "import seaborn as sb\n",
    "import warnings\n",
    "warnings.filterwarnings('ignore')"
   ]
  },
  {
   "cell_type": "markdown",
   "id": "f9ccd38d",
   "metadata": {},
   "source": [
    "## Data Load"
   ]
  },
  {
   "cell_type": "code",
   "execution_count": 2,
   "id": "92660d72",
   "metadata": {
    "ExecuteTime": {
     "end_time": "2022-05-26T18:47:01.893481Z",
     "start_time": "2022-05-26T18:46:54.905520Z"
    }
   },
   "outputs": [
    {
     "data": {
      "text/html": [
       "<div>\n",
       "<style scoped>\n",
       "    .dataframe tbody tr th:only-of-type {\n",
       "        vertical-align: middle;\n",
       "    }\n",
       "\n",
       "    .dataframe tbody tr th {\n",
       "        vertical-align: top;\n",
       "    }\n",
       "\n",
       "    .dataframe thead th {\n",
       "        text-align: right;\n",
       "    }\n",
       "</style>\n",
       "<table border=\"1\" class=\"dataframe\">\n",
       "  <thead>\n",
       "    <tr style=\"text-align: right;\">\n",
       "      <th></th>\n",
       "      <th>step</th>\n",
       "      <th>type</th>\n",
       "      <th>amount</th>\n",
       "      <th>nameOrig</th>\n",
       "      <th>oldbalanceOrg</th>\n",
       "      <th>newbalanceOrig</th>\n",
       "      <th>nameDest</th>\n",
       "      <th>oldbalanceDest</th>\n",
       "      <th>newbalanceDest</th>\n",
       "      <th>isFraud</th>\n",
       "      <th>isFlaggedFraud</th>\n",
       "    </tr>\n",
       "  </thead>\n",
       "  <tbody>\n",
       "    <tr>\n",
       "      <th>0</th>\n",
       "      <td>1</td>\n",
       "      <td>PAYMENT</td>\n",
       "      <td>9839.64</td>\n",
       "      <td>C1231006815</td>\n",
       "      <td>170136.00</td>\n",
       "      <td>160296.36</td>\n",
       "      <td>M1979787155</td>\n",
       "      <td>0.00</td>\n",
       "      <td>0.00</td>\n",
       "      <td>0</td>\n",
       "      <td>0</td>\n",
       "    </tr>\n",
       "    <tr>\n",
       "      <th>1</th>\n",
       "      <td>1</td>\n",
       "      <td>PAYMENT</td>\n",
       "      <td>1864.28</td>\n",
       "      <td>C1666544295</td>\n",
       "      <td>21249.00</td>\n",
       "      <td>19384.72</td>\n",
       "      <td>M2044282225</td>\n",
       "      <td>0.00</td>\n",
       "      <td>0.00</td>\n",
       "      <td>0</td>\n",
       "      <td>0</td>\n",
       "    </tr>\n",
       "    <tr>\n",
       "      <th>2</th>\n",
       "      <td>1</td>\n",
       "      <td>TRANSFER</td>\n",
       "      <td>181.00</td>\n",
       "      <td>C1305486145</td>\n",
       "      <td>181.00</td>\n",
       "      <td>0.00</td>\n",
       "      <td>C553264065</td>\n",
       "      <td>0.00</td>\n",
       "      <td>0.00</td>\n",
       "      <td>1</td>\n",
       "      <td>0</td>\n",
       "    </tr>\n",
       "    <tr>\n",
       "      <th>3</th>\n",
       "      <td>1</td>\n",
       "      <td>CASH_OUT</td>\n",
       "      <td>181.00</td>\n",
       "      <td>C840083671</td>\n",
       "      <td>181.00</td>\n",
       "      <td>0.00</td>\n",
       "      <td>C38997010</td>\n",
       "      <td>21182.00</td>\n",
       "      <td>0.00</td>\n",
       "      <td>1</td>\n",
       "      <td>0</td>\n",
       "    </tr>\n",
       "    <tr>\n",
       "      <th>4</th>\n",
       "      <td>1</td>\n",
       "      <td>PAYMENT</td>\n",
       "      <td>11668.14</td>\n",
       "      <td>C2048537720</td>\n",
       "      <td>41554.00</td>\n",
       "      <td>29885.86</td>\n",
       "      <td>M1230701703</td>\n",
       "      <td>0.00</td>\n",
       "      <td>0.00</td>\n",
       "      <td>0</td>\n",
       "      <td>0</td>\n",
       "    </tr>\n",
       "    <tr>\n",
       "      <th>...</th>\n",
       "      <td>...</td>\n",
       "      <td>...</td>\n",
       "      <td>...</td>\n",
       "      <td>...</td>\n",
       "      <td>...</td>\n",
       "      <td>...</td>\n",
       "      <td>...</td>\n",
       "      <td>...</td>\n",
       "      <td>...</td>\n",
       "      <td>...</td>\n",
       "      <td>...</td>\n",
       "    </tr>\n",
       "    <tr>\n",
       "      <th>6362615</th>\n",
       "      <td>743</td>\n",
       "      <td>CASH_OUT</td>\n",
       "      <td>339682.13</td>\n",
       "      <td>C786484425</td>\n",
       "      <td>339682.13</td>\n",
       "      <td>0.00</td>\n",
       "      <td>C776919290</td>\n",
       "      <td>0.00</td>\n",
       "      <td>339682.13</td>\n",
       "      <td>1</td>\n",
       "      <td>0</td>\n",
       "    </tr>\n",
       "    <tr>\n",
       "      <th>6362616</th>\n",
       "      <td>743</td>\n",
       "      <td>TRANSFER</td>\n",
       "      <td>6311409.28</td>\n",
       "      <td>C1529008245</td>\n",
       "      <td>6311409.28</td>\n",
       "      <td>0.00</td>\n",
       "      <td>C1881841831</td>\n",
       "      <td>0.00</td>\n",
       "      <td>0.00</td>\n",
       "      <td>1</td>\n",
       "      <td>0</td>\n",
       "    </tr>\n",
       "    <tr>\n",
       "      <th>6362617</th>\n",
       "      <td>743</td>\n",
       "      <td>CASH_OUT</td>\n",
       "      <td>6311409.28</td>\n",
       "      <td>C1162922333</td>\n",
       "      <td>6311409.28</td>\n",
       "      <td>0.00</td>\n",
       "      <td>C1365125890</td>\n",
       "      <td>68488.84</td>\n",
       "      <td>6379898.11</td>\n",
       "      <td>1</td>\n",
       "      <td>0</td>\n",
       "    </tr>\n",
       "    <tr>\n",
       "      <th>6362618</th>\n",
       "      <td>743</td>\n",
       "      <td>TRANSFER</td>\n",
       "      <td>850002.52</td>\n",
       "      <td>C1685995037</td>\n",
       "      <td>850002.52</td>\n",
       "      <td>0.00</td>\n",
       "      <td>C2080388513</td>\n",
       "      <td>0.00</td>\n",
       "      <td>0.00</td>\n",
       "      <td>1</td>\n",
       "      <td>0</td>\n",
       "    </tr>\n",
       "    <tr>\n",
       "      <th>6362619</th>\n",
       "      <td>743</td>\n",
       "      <td>CASH_OUT</td>\n",
       "      <td>850002.52</td>\n",
       "      <td>C1280323807</td>\n",
       "      <td>850002.52</td>\n",
       "      <td>0.00</td>\n",
       "      <td>C873221189</td>\n",
       "      <td>6510099.11</td>\n",
       "      <td>7360101.63</td>\n",
       "      <td>1</td>\n",
       "      <td>0</td>\n",
       "    </tr>\n",
       "  </tbody>\n",
       "</table>\n",
       "<p>6362620 rows × 11 columns</p>\n",
       "</div>"
      ],
      "text/plain": [
       "         step      type      amount     nameOrig  oldbalanceOrg  \\\n",
       "0           1   PAYMENT     9839.64  C1231006815      170136.00   \n",
       "1           1   PAYMENT     1864.28  C1666544295       21249.00   \n",
       "2           1  TRANSFER      181.00  C1305486145         181.00   \n",
       "3           1  CASH_OUT      181.00   C840083671         181.00   \n",
       "4           1   PAYMENT    11668.14  C2048537720       41554.00   \n",
       "...       ...       ...         ...          ...            ...   \n",
       "6362615   743  CASH_OUT   339682.13   C786484425      339682.13   \n",
       "6362616   743  TRANSFER  6311409.28  C1529008245     6311409.28   \n",
       "6362617   743  CASH_OUT  6311409.28  C1162922333     6311409.28   \n",
       "6362618   743  TRANSFER   850002.52  C1685995037      850002.52   \n",
       "6362619   743  CASH_OUT   850002.52  C1280323807      850002.52   \n",
       "\n",
       "         newbalanceOrig     nameDest  oldbalanceDest  newbalanceDest  isFraud  \\\n",
       "0             160296.36  M1979787155            0.00            0.00        0   \n",
       "1              19384.72  M2044282225            0.00            0.00        0   \n",
       "2                  0.00   C553264065            0.00            0.00        1   \n",
       "3                  0.00    C38997010        21182.00            0.00        1   \n",
       "4              29885.86  M1230701703            0.00            0.00        0   \n",
       "...                 ...          ...             ...             ...      ...   \n",
       "6362615            0.00   C776919290            0.00       339682.13        1   \n",
       "6362616            0.00  C1881841831            0.00            0.00        1   \n",
       "6362617            0.00  C1365125890        68488.84      6379898.11        1   \n",
       "6362618            0.00  C2080388513            0.00            0.00        1   \n",
       "6362619            0.00   C873221189      6510099.11      7360101.63        1   \n",
       "\n",
       "         isFlaggedFraud  \n",
       "0                     0  \n",
       "1                     0  \n",
       "2                     0  \n",
       "3                     0  \n",
       "4                     0  \n",
       "...                 ...  \n",
       "6362615               0  \n",
       "6362616               0  \n",
       "6362617               0  \n",
       "6362618               0  \n",
       "6362619               0  \n",
       "\n",
       "[6362620 rows x 11 columns]"
      ]
     },
     "execution_count": 2,
     "metadata": {},
     "output_type": "execute_result"
    }
   ],
   "source": [
    "df = pd.read_csv(\"Fraud.csv\")\n",
    "df"
   ]
  },
  {
   "cell_type": "code",
   "execution_count": 3,
   "id": "7e88947c",
   "metadata": {
    "ExecuteTime": {
     "end_time": "2022-05-26T18:47:01.909484Z",
     "start_time": "2022-05-26T18:47:01.895481Z"
    }
   },
   "outputs": [
    {
     "data": {
      "text/html": [
       "<div>\n",
       "<style scoped>\n",
       "    .dataframe tbody tr th:only-of-type {\n",
       "        vertical-align: middle;\n",
       "    }\n",
       "\n",
       "    .dataframe tbody tr th {\n",
       "        vertical-align: top;\n",
       "    }\n",
       "\n",
       "    .dataframe thead th {\n",
       "        text-align: right;\n",
       "    }\n",
       "</style>\n",
       "<table border=\"1\" class=\"dataframe\">\n",
       "  <thead>\n",
       "    <tr style=\"text-align: right;\">\n",
       "      <th></th>\n",
       "      <th>step</th>\n",
       "      <th>type</th>\n",
       "      <th>amount</th>\n",
       "      <th>nameOrig</th>\n",
       "      <th>oldbalanceOrg</th>\n",
       "      <th>newbalanceOrig</th>\n",
       "      <th>nameDest</th>\n",
       "      <th>oldbalanceDest</th>\n",
       "      <th>newbalanceDest</th>\n",
       "      <th>isFraud</th>\n",
       "      <th>isFlaggedFraud</th>\n",
       "    </tr>\n",
       "  </thead>\n",
       "  <tbody>\n",
       "    <tr>\n",
       "      <th>0</th>\n",
       "      <td>1</td>\n",
       "      <td>PAYMENT</td>\n",
       "      <td>9839.64</td>\n",
       "      <td>C1231006815</td>\n",
       "      <td>170136.0</td>\n",
       "      <td>160296.36</td>\n",
       "      <td>M1979787155</td>\n",
       "      <td>0.0</td>\n",
       "      <td>0.0</td>\n",
       "      <td>0</td>\n",
       "      <td>0</td>\n",
       "    </tr>\n",
       "    <tr>\n",
       "      <th>1</th>\n",
       "      <td>1</td>\n",
       "      <td>PAYMENT</td>\n",
       "      <td>1864.28</td>\n",
       "      <td>C1666544295</td>\n",
       "      <td>21249.0</td>\n",
       "      <td>19384.72</td>\n",
       "      <td>M2044282225</td>\n",
       "      <td>0.0</td>\n",
       "      <td>0.0</td>\n",
       "      <td>0</td>\n",
       "      <td>0</td>\n",
       "    </tr>\n",
       "    <tr>\n",
       "      <th>2</th>\n",
       "      <td>1</td>\n",
       "      <td>TRANSFER</td>\n",
       "      <td>181.00</td>\n",
       "      <td>C1305486145</td>\n",
       "      <td>181.0</td>\n",
       "      <td>0.00</td>\n",
       "      <td>C553264065</td>\n",
       "      <td>0.0</td>\n",
       "      <td>0.0</td>\n",
       "      <td>1</td>\n",
       "      <td>0</td>\n",
       "    </tr>\n",
       "    <tr>\n",
       "      <th>3</th>\n",
       "      <td>1</td>\n",
       "      <td>CASH_OUT</td>\n",
       "      <td>181.00</td>\n",
       "      <td>C840083671</td>\n",
       "      <td>181.0</td>\n",
       "      <td>0.00</td>\n",
       "      <td>C38997010</td>\n",
       "      <td>21182.0</td>\n",
       "      <td>0.0</td>\n",
       "      <td>1</td>\n",
       "      <td>0</td>\n",
       "    </tr>\n",
       "    <tr>\n",
       "      <th>4</th>\n",
       "      <td>1</td>\n",
       "      <td>PAYMENT</td>\n",
       "      <td>11668.14</td>\n",
       "      <td>C2048537720</td>\n",
       "      <td>41554.0</td>\n",
       "      <td>29885.86</td>\n",
       "      <td>M1230701703</td>\n",
       "      <td>0.0</td>\n",
       "      <td>0.0</td>\n",
       "      <td>0</td>\n",
       "      <td>0</td>\n",
       "    </tr>\n",
       "  </tbody>\n",
       "</table>\n",
       "</div>"
      ],
      "text/plain": [
       "   step      type    amount     nameOrig  oldbalanceOrg  newbalanceOrig  \\\n",
       "0     1   PAYMENT   9839.64  C1231006815       170136.0       160296.36   \n",
       "1     1   PAYMENT   1864.28  C1666544295        21249.0        19384.72   \n",
       "2     1  TRANSFER    181.00  C1305486145          181.0            0.00   \n",
       "3     1  CASH_OUT    181.00   C840083671          181.0            0.00   \n",
       "4     1   PAYMENT  11668.14  C2048537720        41554.0        29885.86   \n",
       "\n",
       "      nameDest  oldbalanceDest  newbalanceDest  isFraud  isFlaggedFraud  \n",
       "0  M1979787155             0.0             0.0        0               0  \n",
       "1  M2044282225             0.0             0.0        0               0  \n",
       "2   C553264065             0.0             0.0        1               0  \n",
       "3    C38997010         21182.0             0.0        1               0  \n",
       "4  M1230701703             0.0             0.0        0               0  "
      ]
     },
     "execution_count": 3,
     "metadata": {},
     "output_type": "execute_result"
    }
   ],
   "source": [
    "df.head()"
   ]
  },
  {
   "cell_type": "code",
   "execution_count": 4,
   "id": "2de5fd49",
   "metadata": {
    "ExecuteTime": {
     "end_time": "2022-05-26T18:47:01.940492Z",
     "start_time": "2022-05-26T18:47:01.912485Z"
    }
   },
   "outputs": [
    {
     "data": {
      "text/html": [
       "<div>\n",
       "<style scoped>\n",
       "    .dataframe tbody tr th:only-of-type {\n",
       "        vertical-align: middle;\n",
       "    }\n",
       "\n",
       "    .dataframe tbody tr th {\n",
       "        vertical-align: top;\n",
       "    }\n",
       "\n",
       "    .dataframe thead th {\n",
       "        text-align: right;\n",
       "    }\n",
       "</style>\n",
       "<table border=\"1\" class=\"dataframe\">\n",
       "  <thead>\n",
       "    <tr style=\"text-align: right;\">\n",
       "      <th></th>\n",
       "      <th>step</th>\n",
       "      <th>type</th>\n",
       "      <th>amount</th>\n",
       "      <th>nameOrig</th>\n",
       "      <th>oldbalanceOrg</th>\n",
       "      <th>newbalanceOrig</th>\n",
       "      <th>nameDest</th>\n",
       "      <th>oldbalanceDest</th>\n",
       "      <th>newbalanceDest</th>\n",
       "      <th>isFraud</th>\n",
       "      <th>isFlaggedFraud</th>\n",
       "    </tr>\n",
       "  </thead>\n",
       "  <tbody>\n",
       "    <tr>\n",
       "      <th>6362615</th>\n",
       "      <td>743</td>\n",
       "      <td>CASH_OUT</td>\n",
       "      <td>339682.13</td>\n",
       "      <td>C786484425</td>\n",
       "      <td>339682.13</td>\n",
       "      <td>0.0</td>\n",
       "      <td>C776919290</td>\n",
       "      <td>0.00</td>\n",
       "      <td>339682.13</td>\n",
       "      <td>1</td>\n",
       "      <td>0</td>\n",
       "    </tr>\n",
       "    <tr>\n",
       "      <th>6362616</th>\n",
       "      <td>743</td>\n",
       "      <td>TRANSFER</td>\n",
       "      <td>6311409.28</td>\n",
       "      <td>C1529008245</td>\n",
       "      <td>6311409.28</td>\n",
       "      <td>0.0</td>\n",
       "      <td>C1881841831</td>\n",
       "      <td>0.00</td>\n",
       "      <td>0.00</td>\n",
       "      <td>1</td>\n",
       "      <td>0</td>\n",
       "    </tr>\n",
       "    <tr>\n",
       "      <th>6362617</th>\n",
       "      <td>743</td>\n",
       "      <td>CASH_OUT</td>\n",
       "      <td>6311409.28</td>\n",
       "      <td>C1162922333</td>\n",
       "      <td>6311409.28</td>\n",
       "      <td>0.0</td>\n",
       "      <td>C1365125890</td>\n",
       "      <td>68488.84</td>\n",
       "      <td>6379898.11</td>\n",
       "      <td>1</td>\n",
       "      <td>0</td>\n",
       "    </tr>\n",
       "    <tr>\n",
       "      <th>6362618</th>\n",
       "      <td>743</td>\n",
       "      <td>TRANSFER</td>\n",
       "      <td>850002.52</td>\n",
       "      <td>C1685995037</td>\n",
       "      <td>850002.52</td>\n",
       "      <td>0.0</td>\n",
       "      <td>C2080388513</td>\n",
       "      <td>0.00</td>\n",
       "      <td>0.00</td>\n",
       "      <td>1</td>\n",
       "      <td>0</td>\n",
       "    </tr>\n",
       "    <tr>\n",
       "      <th>6362619</th>\n",
       "      <td>743</td>\n",
       "      <td>CASH_OUT</td>\n",
       "      <td>850002.52</td>\n",
       "      <td>C1280323807</td>\n",
       "      <td>850002.52</td>\n",
       "      <td>0.0</td>\n",
       "      <td>C873221189</td>\n",
       "      <td>6510099.11</td>\n",
       "      <td>7360101.63</td>\n",
       "      <td>1</td>\n",
       "      <td>0</td>\n",
       "    </tr>\n",
       "  </tbody>\n",
       "</table>\n",
       "</div>"
      ],
      "text/plain": [
       "         step      type      amount     nameOrig  oldbalanceOrg  \\\n",
       "6362615   743  CASH_OUT   339682.13   C786484425      339682.13   \n",
       "6362616   743  TRANSFER  6311409.28  C1529008245     6311409.28   \n",
       "6362617   743  CASH_OUT  6311409.28  C1162922333     6311409.28   \n",
       "6362618   743  TRANSFER   850002.52  C1685995037      850002.52   \n",
       "6362619   743  CASH_OUT   850002.52  C1280323807      850002.52   \n",
       "\n",
       "         newbalanceOrig     nameDest  oldbalanceDest  newbalanceDest  isFraud  \\\n",
       "6362615             0.0   C776919290            0.00       339682.13        1   \n",
       "6362616             0.0  C1881841831            0.00            0.00        1   \n",
       "6362617             0.0  C1365125890        68488.84      6379898.11        1   \n",
       "6362618             0.0  C2080388513            0.00            0.00        1   \n",
       "6362619             0.0   C873221189      6510099.11      7360101.63        1   \n",
       "\n",
       "         isFlaggedFraud  \n",
       "6362615               0  \n",
       "6362616               0  \n",
       "6362617               0  \n",
       "6362618               0  \n",
       "6362619               0  "
      ]
     },
     "execution_count": 4,
     "metadata": {},
     "output_type": "execute_result"
    }
   ],
   "source": [
    "df.tail()"
   ]
  },
  {
   "cell_type": "code",
   "execution_count": 5,
   "id": "ad87dc40",
   "metadata": {
    "ExecuteTime": {
     "end_time": "2022-05-26T18:47:03.694887Z",
     "start_time": "2022-05-26T18:47:01.941491Z"
    }
   },
   "outputs": [
    {
     "data": {
      "text/html": [
       "<div>\n",
       "<style scoped>\n",
       "    .dataframe tbody tr th:only-of-type {\n",
       "        vertical-align: middle;\n",
       "    }\n",
       "\n",
       "    .dataframe tbody tr th {\n",
       "        vertical-align: top;\n",
       "    }\n",
       "\n",
       "    .dataframe thead th {\n",
       "        text-align: right;\n",
       "    }\n",
       "</style>\n",
       "<table border=\"1\" class=\"dataframe\">\n",
       "  <thead>\n",
       "    <tr style=\"text-align: right;\">\n",
       "      <th></th>\n",
       "      <th>step</th>\n",
       "      <th>amount</th>\n",
       "      <th>oldbalanceOrg</th>\n",
       "      <th>newbalanceOrig</th>\n",
       "      <th>oldbalanceDest</th>\n",
       "      <th>newbalanceDest</th>\n",
       "      <th>isFraud</th>\n",
       "      <th>isFlaggedFraud</th>\n",
       "    </tr>\n",
       "  </thead>\n",
       "  <tbody>\n",
       "    <tr>\n",
       "      <th>count</th>\n",
       "      <td>6.362620e+06</td>\n",
       "      <td>6.362620e+06</td>\n",
       "      <td>6.362620e+06</td>\n",
       "      <td>6.362620e+06</td>\n",
       "      <td>6.362620e+06</td>\n",
       "      <td>6.362620e+06</td>\n",
       "      <td>6.362620e+06</td>\n",
       "      <td>6.362620e+06</td>\n",
       "    </tr>\n",
       "    <tr>\n",
       "      <th>mean</th>\n",
       "      <td>2.433972e+02</td>\n",
       "      <td>1.798619e+05</td>\n",
       "      <td>8.338831e+05</td>\n",
       "      <td>8.551137e+05</td>\n",
       "      <td>1.100702e+06</td>\n",
       "      <td>1.224996e+06</td>\n",
       "      <td>1.290820e-03</td>\n",
       "      <td>2.514687e-06</td>\n",
       "    </tr>\n",
       "    <tr>\n",
       "      <th>std</th>\n",
       "      <td>1.423320e+02</td>\n",
       "      <td>6.038582e+05</td>\n",
       "      <td>2.888243e+06</td>\n",
       "      <td>2.924049e+06</td>\n",
       "      <td>3.399180e+06</td>\n",
       "      <td>3.674129e+06</td>\n",
       "      <td>3.590480e-02</td>\n",
       "      <td>1.585775e-03</td>\n",
       "    </tr>\n",
       "    <tr>\n",
       "      <th>min</th>\n",
       "      <td>1.000000e+00</td>\n",
       "      <td>0.000000e+00</td>\n",
       "      <td>0.000000e+00</td>\n",
       "      <td>0.000000e+00</td>\n",
       "      <td>0.000000e+00</td>\n",
       "      <td>0.000000e+00</td>\n",
       "      <td>0.000000e+00</td>\n",
       "      <td>0.000000e+00</td>\n",
       "    </tr>\n",
       "    <tr>\n",
       "      <th>25%</th>\n",
       "      <td>1.560000e+02</td>\n",
       "      <td>1.338957e+04</td>\n",
       "      <td>0.000000e+00</td>\n",
       "      <td>0.000000e+00</td>\n",
       "      <td>0.000000e+00</td>\n",
       "      <td>0.000000e+00</td>\n",
       "      <td>0.000000e+00</td>\n",
       "      <td>0.000000e+00</td>\n",
       "    </tr>\n",
       "    <tr>\n",
       "      <th>50%</th>\n",
       "      <td>2.390000e+02</td>\n",
       "      <td>7.487194e+04</td>\n",
       "      <td>1.420800e+04</td>\n",
       "      <td>0.000000e+00</td>\n",
       "      <td>1.327057e+05</td>\n",
       "      <td>2.146614e+05</td>\n",
       "      <td>0.000000e+00</td>\n",
       "      <td>0.000000e+00</td>\n",
       "    </tr>\n",
       "    <tr>\n",
       "      <th>75%</th>\n",
       "      <td>3.350000e+02</td>\n",
       "      <td>2.087215e+05</td>\n",
       "      <td>1.073152e+05</td>\n",
       "      <td>1.442584e+05</td>\n",
       "      <td>9.430367e+05</td>\n",
       "      <td>1.111909e+06</td>\n",
       "      <td>0.000000e+00</td>\n",
       "      <td>0.000000e+00</td>\n",
       "    </tr>\n",
       "    <tr>\n",
       "      <th>max</th>\n",
       "      <td>7.430000e+02</td>\n",
       "      <td>9.244552e+07</td>\n",
       "      <td>5.958504e+07</td>\n",
       "      <td>4.958504e+07</td>\n",
       "      <td>3.560159e+08</td>\n",
       "      <td>3.561793e+08</td>\n",
       "      <td>1.000000e+00</td>\n",
       "      <td>1.000000e+00</td>\n",
       "    </tr>\n",
       "  </tbody>\n",
       "</table>\n",
       "</div>"
      ],
      "text/plain": [
       "               step        amount  oldbalanceOrg  newbalanceOrig  \\\n",
       "count  6.362620e+06  6.362620e+06   6.362620e+06    6.362620e+06   \n",
       "mean   2.433972e+02  1.798619e+05   8.338831e+05    8.551137e+05   \n",
       "std    1.423320e+02  6.038582e+05   2.888243e+06    2.924049e+06   \n",
       "min    1.000000e+00  0.000000e+00   0.000000e+00    0.000000e+00   \n",
       "25%    1.560000e+02  1.338957e+04   0.000000e+00    0.000000e+00   \n",
       "50%    2.390000e+02  7.487194e+04   1.420800e+04    0.000000e+00   \n",
       "75%    3.350000e+02  2.087215e+05   1.073152e+05    1.442584e+05   \n",
       "max    7.430000e+02  9.244552e+07   5.958504e+07    4.958504e+07   \n",
       "\n",
       "       oldbalanceDest  newbalanceDest       isFraud  isFlaggedFraud  \n",
       "count    6.362620e+06    6.362620e+06  6.362620e+06    6.362620e+06  \n",
       "mean     1.100702e+06    1.224996e+06  1.290820e-03    2.514687e-06  \n",
       "std      3.399180e+06    3.674129e+06  3.590480e-02    1.585775e-03  \n",
       "min      0.000000e+00    0.000000e+00  0.000000e+00    0.000000e+00  \n",
       "25%      0.000000e+00    0.000000e+00  0.000000e+00    0.000000e+00  \n",
       "50%      1.327057e+05    2.146614e+05  0.000000e+00    0.000000e+00  \n",
       "75%      9.430367e+05    1.111909e+06  0.000000e+00    0.000000e+00  \n",
       "max      3.560159e+08    3.561793e+08  1.000000e+00    1.000000e+00  "
      ]
     },
     "execution_count": 5,
     "metadata": {},
     "output_type": "execute_result"
    }
   ],
   "source": [
    "df.describe()"
   ]
  },
  {
   "cell_type": "code",
   "execution_count": 6,
   "id": "5e83cbb1",
   "metadata": {
    "ExecuteTime": {
     "end_time": "2022-05-26T18:47:03.710891Z",
     "start_time": "2022-05-26T18:47:03.695887Z"
    }
   },
   "outputs": [
    {
     "data": {
      "text/plain": [
       "step                int64\n",
       "type               object\n",
       "amount            float64\n",
       "nameOrig           object\n",
       "oldbalanceOrg     float64\n",
       "newbalanceOrig    float64\n",
       "nameDest           object\n",
       "oldbalanceDest    float64\n",
       "newbalanceDest    float64\n",
       "isFraud             int64\n",
       "isFlaggedFraud      int64\n",
       "dtype: object"
      ]
     },
     "execution_count": 6,
     "metadata": {},
     "output_type": "execute_result"
    }
   ],
   "source": [
    "df.dtypes"
   ]
  },
  {
   "cell_type": "markdown",
   "id": "12460ef2",
   "metadata": {},
   "source": [
    "## Data Preprocessing"
   ]
  },
  {
   "cell_type": "code",
   "execution_count": 7,
   "id": "85aae655",
   "metadata": {
    "ExecuteTime": {
     "end_time": "2022-05-26T18:47:03.964947Z",
     "start_time": "2022-05-26T18:47:03.711891Z"
    }
   },
   "outputs": [
    {
     "data": {
      "text/plain": [
       "count    6.362620e+06\n",
       "mean     1.798619e+05\n",
       "std      6.038582e+05\n",
       "min      0.000000e+00\n",
       "25%      1.338957e+04\n",
       "50%      7.487194e+04\n",
       "75%      2.087215e+05\n",
       "max      9.244552e+07\n",
       "Name: amount, dtype: float64"
      ]
     },
     "execution_count": 7,
     "metadata": {},
     "output_type": "execute_result"
    }
   ],
   "source": [
    "df['amount'].describe()"
   ]
  },
  {
   "cell_type": "markdown",
   "id": "971f5b8f",
   "metadata": {},
   "source": [
    "### Null values"
   ]
  },
  {
   "cell_type": "code",
   "execution_count": 8,
   "id": "41b97e73",
   "metadata": {
    "ExecuteTime": {
     "end_time": "2022-05-26T18:47:04.589088Z",
     "start_time": "2022-05-26T18:47:03.965947Z"
    }
   },
   "outputs": [
    {
     "data": {
      "text/plain": [
       "False"
      ]
     },
     "execution_count": 8,
     "metadata": {},
     "output_type": "execute_result"
    }
   ],
   "source": [
    "df.isnull().values.any()"
   ]
  },
  {
   "cell_type": "markdown",
   "id": "cd2aa276",
   "metadata": {},
   "source": [
    "### Outliers"
   ]
  },
  {
   "cell_type": "markdown",
   "id": "882d8169",
   "metadata": {
    "ExecuteTime": {
     "end_time": "2022-05-26T15:19:52.322255Z",
     "start_time": "2022-05-26T15:19:52.312254Z"
    }
   },
   "source": [
    "#### Box-plot for columns before removing outliers"
   ]
  },
  {
   "cell_type": "markdown",
   "id": "5d1620d2",
   "metadata": {
    "ExecuteTime": {
     "end_time": "2022-05-26T14:47:37.336024Z",
     "start_time": "2022-05-26T14:47:37.319021Z"
    }
   },
   "source": [
    "##### amount"
   ]
  },
  {
   "cell_type": "code",
   "execution_count": 9,
   "id": "ef818362",
   "metadata": {
    "ExecuteTime": {
     "end_time": "2022-05-26T18:47:05.303248Z",
     "start_time": "2022-05-26T18:47:04.590140Z"
    },
    "scrolled": true
   },
   "outputs": [
    {
     "data": {
      "image/png": "[encoded data removed]",
      "text/plain": [
       "<Figure size 360x360 with 1 Axes>"
      ]
     },
     "metadata": {
      "needs_background": "light"
     },
     "output_type": "display_data"
    }
   ],
   "source": [
    "# plt.plot(df.amount)\n",
    "fig = plt.figure(figsize=(5,5))\n",
    "sb.boxplot(df['amount'])\n",
    "plt.show()"
   ]
  },
  {
   "cell_type": "markdown",
   "id": "bb9b5ed5",
   "metadata": {},
   "source": [
    "##### oldbalanceOrg"
   ]
  },
  {
   "cell_type": "code",
   "execution_count": 10,
   "id": "a3941eb6",
   "metadata": {
    "ExecuteTime": {
     "end_time": "2022-05-26T18:47:06.885604Z",
     "start_time": "2022-05-26T18:47:05.304249Z"
    },
    "scrolled": false
   },
   "outputs": [
    {
     "data": {
      "image/png": "[encoded data removed]",
      "text/plain": [
       "<Figure size 360x360 with 1 Axes>"
      ]
     },
     "metadata": {
      "needs_background": "light"
     },
     "output_type": "display_data"
    }
   ],
   "source": [
    "fig = plt.figure(figsize=(5,5))\n",
    "sb.boxplot(df['oldbalanceOrg'])\n",
    "plt.show()"
   ]
  },
  {
   "cell_type": "markdown",
   "id": "99067a2c",
   "metadata": {},
   "source": [
    "##### newbalanceOrig"
   ]
  },
  {
   "cell_type": "code",
   "execution_count": 11,
   "id": "035f7099",
   "metadata": {
    "ExecuteTime": {
     "end_time": "2022-05-26T18:47:08.385943Z",
     "start_time": "2022-05-26T18:47:06.886605Z"
    },
    "scrolled": true
   },
   "outputs": [
    {
     "data": {
      "image/png": "[encoded data removed]",
      "text/plain": [
       "<Figure size 432x288 with 1 Axes>"
      ]
     },
     "metadata": {
      "needs_background": "light"
     },
     "output_type": "display_data"
    }
   ],
   "source": [
    "sb.boxplot(df['newbalanceOrig'])\n",
    "plt.show()"
   ]
  },
  {
   "cell_type": "markdown",
   "id": "f5b5579e",
   "metadata": {},
   "source": [
    "##### oldbalanceDest"
   ]
  },
  {
   "cell_type": "code",
   "execution_count": 12,
   "id": "312214b0",
   "metadata": {
    "ExecuteTime": {
     "end_time": "2022-05-26T18:47:09.600216Z",
     "start_time": "2022-05-26T18:47:08.388944Z"
    }
   },
   "outputs": [
    {
     "data": {
      "image/png": "[encoded data removed]",
      "text/plain": [
       "<Figure size 432x288 with 1 Axes>"
      ]
     },
     "metadata": {
      "needs_background": "light"
     },
     "output_type": "display_data"
    }
   ],
   "source": [
    "sb.boxplot(df['oldbalanceDest'])\n",
    "plt.show()"
   ]
  },
  {
   "cell_type": "markdown",
   "id": "e8379c1d",
   "metadata": {},
   "source": [
    "##### newbalanceDest"
   ]
  },
  {
   "cell_type": "code",
   "execution_count": 13,
   "id": "2cc78299",
   "metadata": {
    "ExecuteTime": {
     "end_time": "2022-05-26T18:47:10.732471Z",
     "start_time": "2022-05-26T18:47:09.601217Z"
    }
   },
   "outputs": [
    {
     "data": {
      "image/png": "[encoded data removed]",
      "text/plain": [
       "<Figure size 432x288 with 1 Axes>"
      ]
     },
     "metadata": {
      "needs_background": "light"
     },
     "output_type": "display_data"
    }
   ],
   "source": [
    "sb.boxplot(df['newbalanceDest'])\n",
    "plt.show()"
   ]
  },
  {
   "cell_type": "markdown",
   "id": "6c1ec2b9",
   "metadata": {},
   "source": [
    "#### Trimming Outliers using InterQuartile Range (IQR)"
   ]
  },
  {
   "cell_type": "markdown",
   "id": "92eeac8f",
   "metadata": {},
   "source": [
    "##### amount"
   ]
  },
  {
   "cell_type": "code",
   "execution_count": 14,
   "id": "af29a88a",
   "metadata": {
    "ExecuteTime": {
     "end_time": "2022-05-26T18:47:10.908511Z",
     "start_time": "2022-05-26T18:47:10.733472Z"
    }
   },
   "outputs": [
    {
     "name": "stdout",
     "output_type": "stream",
     "text": [
      "13389.57\n",
      "208721.4775\n",
      "501719.33875\n",
      "-279608.29125\n"
     ]
    }
   ],
   "source": [
    "# InterQuartile Range (IQR)\n",
    "percentile25 = df['amount'].quantile(0.25)\n",
    "percentile75 = df['amount'].quantile(0.75)\n",
    "\n",
    "iqr=percentile75-percentile25\n",
    "\n",
    "upper_limit = percentile75 + (1.5 * iqr)\n",
    "lower_limit = percentile25 - (1.5 * iqr)\n",
    "\n",
    "print(percentile25)\n",
    "print(percentile75)\n",
    "print(upper_limit)\n",
    "print(lower_limit)"
   ]
  },
  {
   "cell_type": "code",
   "execution_count": 15,
   "id": "4615c5b0",
   "metadata": {
    "ExecuteTime": {
     "end_time": "2022-05-26T18:47:11.319604Z",
     "start_time": "2022-05-26T18:47:10.909512Z"
    }
   },
   "outputs": [
    {
     "data": {
      "text/html": [
       "<div>\n",
       "<style scoped>\n",
       "    .dataframe tbody tr th:only-of-type {\n",
       "        vertical-align: middle;\n",
       "    }\n",
       "\n",
       "    .dataframe tbody tr th {\n",
       "        vertical-align: top;\n",
       "    }\n",
       "\n",
       "    .dataframe thead th {\n",
       "        text-align: right;\n",
       "    }\n",
       "</style>\n",
       "<table border=\"1\" class=\"dataframe\">\n",
       "  <thead>\n",
       "    <tr style=\"text-align: right;\">\n",
       "      <th></th>\n",
       "      <th>step</th>\n",
       "      <th>type</th>\n",
       "      <th>amount</th>\n",
       "      <th>nameOrig</th>\n",
       "      <th>oldbalanceOrg</th>\n",
       "      <th>newbalanceOrig</th>\n",
       "      <th>nameDest</th>\n",
       "      <th>oldbalanceDest</th>\n",
       "      <th>newbalanceDest</th>\n",
       "      <th>isFraud</th>\n",
       "      <th>isFlaggedFraud</th>\n",
       "    </tr>\n",
       "  </thead>\n",
       "  <tbody>\n",
       "    <tr>\n",
       "      <th>0</th>\n",
       "      <td>1</td>\n",
       "      <td>PAYMENT</td>\n",
       "      <td>9839.64</td>\n",
       "      <td>C1231006815</td>\n",
       "      <td>170136.00</td>\n",
       "      <td>160296.36</td>\n",
       "      <td>M1979787155</td>\n",
       "      <td>0.00</td>\n",
       "      <td>0.00</td>\n",
       "      <td>0</td>\n",
       "      <td>0</td>\n",
       "    </tr>\n",
       "    <tr>\n",
       "      <th>1</th>\n",
       "      <td>1</td>\n",
       "      <td>PAYMENT</td>\n",
       "      <td>1864.28</td>\n",
       "      <td>C1666544295</td>\n",
       "      <td>21249.00</td>\n",
       "      <td>19384.72</td>\n",
       "      <td>M2044282225</td>\n",
       "      <td>0.00</td>\n",
       "      <td>0.00</td>\n",
       "      <td>0</td>\n",
       "      <td>0</td>\n",
       "    </tr>\n",
       "    <tr>\n",
       "      <th>2</th>\n",
       "      <td>1</td>\n",
       "      <td>TRANSFER</td>\n",
       "      <td>181.00</td>\n",
       "      <td>C1305486145</td>\n",
       "      <td>181.00</td>\n",
       "      <td>0.00</td>\n",
       "      <td>C553264065</td>\n",
       "      <td>0.00</td>\n",
       "      <td>0.00</td>\n",
       "      <td>1</td>\n",
       "      <td>0</td>\n",
       "    </tr>\n",
       "    <tr>\n",
       "      <th>3</th>\n",
       "      <td>1</td>\n",
       "      <td>CASH_OUT</td>\n",
       "      <td>181.00</td>\n",
       "      <td>C840083671</td>\n",
       "      <td>181.00</td>\n",
       "      <td>0.00</td>\n",
       "      <td>C38997010</td>\n",
       "      <td>21182.00</td>\n",
       "      <td>0.00</td>\n",
       "      <td>1</td>\n",
       "      <td>0</td>\n",
       "    </tr>\n",
       "    <tr>\n",
       "      <th>4</th>\n",
       "      <td>1</td>\n",
       "      <td>PAYMENT</td>\n",
       "      <td>11668.14</td>\n",
       "      <td>C2048537720</td>\n",
       "      <td>41554.00</td>\n",
       "      <td>29885.86</td>\n",
       "      <td>M1230701703</td>\n",
       "      <td>0.00</td>\n",
       "      <td>0.00</td>\n",
       "      <td>0</td>\n",
       "      <td>0</td>\n",
       "    </tr>\n",
       "    <tr>\n",
       "      <th>...</th>\n",
       "      <td>...</td>\n",
       "      <td>...</td>\n",
       "      <td>...</td>\n",
       "      <td>...</td>\n",
       "      <td>...</td>\n",
       "      <td>...</td>\n",
       "      <td>...</td>\n",
       "      <td>...</td>\n",
       "      <td>...</td>\n",
       "      <td>...</td>\n",
       "      <td>...</td>\n",
       "    </tr>\n",
       "    <tr>\n",
       "      <th>6362609</th>\n",
       "      <td>742</td>\n",
       "      <td>CASH_OUT</td>\n",
       "      <td>258355.42</td>\n",
       "      <td>C1113162093</td>\n",
       "      <td>258355.42</td>\n",
       "      <td>0.00</td>\n",
       "      <td>C797688696</td>\n",
       "      <td>25176.67</td>\n",
       "      <td>283532.09</td>\n",
       "      <td>1</td>\n",
       "      <td>0</td>\n",
       "    </tr>\n",
       "    <tr>\n",
       "      <th>6362610</th>\n",
       "      <td>742</td>\n",
       "      <td>TRANSFER</td>\n",
       "      <td>63416.99</td>\n",
       "      <td>C778071008</td>\n",
       "      <td>63416.99</td>\n",
       "      <td>0.00</td>\n",
       "      <td>C1812552860</td>\n",
       "      <td>0.00</td>\n",
       "      <td>0.00</td>\n",
       "      <td>1</td>\n",
       "      <td>0</td>\n",
       "    </tr>\n",
       "    <tr>\n",
       "      <th>6362611</th>\n",
       "      <td>742</td>\n",
       "      <td>CASH_OUT</td>\n",
       "      <td>63416.99</td>\n",
       "      <td>C994950684</td>\n",
       "      <td>63416.99</td>\n",
       "      <td>0.00</td>\n",
       "      <td>C1662241365</td>\n",
       "      <td>276433.18</td>\n",
       "      <td>339850.17</td>\n",
       "      <td>1</td>\n",
       "      <td>0</td>\n",
       "    </tr>\n",
       "    <tr>\n",
       "      <th>6362614</th>\n",
       "      <td>743</td>\n",
       "      <td>TRANSFER</td>\n",
       "      <td>339682.13</td>\n",
       "      <td>C2013999242</td>\n",
       "      <td>339682.13</td>\n",
       "      <td>0.00</td>\n",
       "      <td>C1850423904</td>\n",
       "      <td>0.00</td>\n",
       "      <td>0.00</td>\n",
       "      <td>1</td>\n",
       "      <td>0</td>\n",
       "    </tr>\n",
       "    <tr>\n",
       "      <th>6362615</th>\n",
       "      <td>743</td>\n",
       "      <td>CASH_OUT</td>\n",
       "      <td>339682.13</td>\n",
       "      <td>C786484425</td>\n",
       "      <td>339682.13</td>\n",
       "      <td>0.00</td>\n",
       "      <td>C776919290</td>\n",
       "      <td>0.00</td>\n",
       "      <td>339682.13</td>\n",
       "      <td>1</td>\n",
       "      <td>0</td>\n",
       "    </tr>\n",
       "  </tbody>\n",
       "</table>\n",
       "<p>6024542 rows × 11 columns</p>\n",
       "</div>"
      ],
      "text/plain": [
       "         step      type     amount     nameOrig  oldbalanceOrg  \\\n",
       "0           1   PAYMENT    9839.64  C1231006815      170136.00   \n",
       "1           1   PAYMENT    1864.28  C1666544295       21249.00   \n",
       "2           1  TRANSFER     181.00  C1305486145         181.00   \n",
       "3           1  CASH_OUT     181.00   C840083671         181.00   \n",
       "4           1   PAYMENT   11668.14  C2048537720       41554.00   \n",
       "...       ...       ...        ...          ...            ...   \n",
       "6362609   742  CASH_OUT  258355.42  C1113162093      258355.42   \n",
       "6362610   742  TRANSFER   63416.99   C778071008       63416.99   \n",
       "6362611   742  CASH_OUT   63416.99   C994950684       63416.99   \n",
       "6362614   743  TRANSFER  339682.13  C2013999242      339682.13   \n",
       "6362615   743  CASH_OUT  339682.13   C786484425      339682.13   \n",
       "\n",
       "         newbalanceOrig     nameDest  oldbalanceDest  newbalanceDest  isFraud  \\\n",
       "0             160296.36  M1979787155            0.00            0.00        0   \n",
       "1              19384.72  M2044282225            0.00            0.00        0   \n",
       "2                  0.00   C553264065            0.00            0.00        1   \n",
       "3                  0.00    C38997010        21182.00            0.00        1   \n",
       "4              29885.86  M1230701703            0.00            0.00        0   \n",
       "...                 ...          ...             ...             ...      ...   \n",
       "6362609            0.00   C797688696        25176.67       283532.09        1   \n",
       "6362610            0.00  C1812552860            0.00            0.00        1   \n",
       "6362611            0.00  C1662241365       276433.18       339850.17        1   \n",
       "6362614            0.00  C1850423904            0.00            0.00        1   \n",
       "6362615            0.00   C776919290            0.00       339682.13        1   \n",
       "\n",
       "         isFlaggedFraud  \n",
       "0                     0  \n",
       "1                     0  \n",
       "2                     0  \n",
       "3                     0  \n",
       "4                     0  \n",
       "...                 ...  \n",
       "6362609               0  \n",
       "6362610               0  \n",
       "6362611               0  \n",
       "6362614               0  \n",
       "6362615               0  \n",
       "\n",
       "[6024542 rows x 11 columns]"
      ]
     },
     "execution_count": 15,
     "metadata": {},
     "output_type": "execute_result"
    }
   ],
   "source": [
    "df = df[(df['amount'] < 501719) & (df['amount'] >= 0)]\n",
    "df"
   ]
  },
  {
   "cell_type": "code",
   "execution_count": 16,
   "id": "bb15587f",
   "metadata": {
    "ExecuteTime": {
     "end_time": "2022-05-26T18:47:43.426320Z",
     "start_time": "2022-05-26T18:47:11.320605Z"
    }
   },
   "outputs": [
    {
     "data": {
      "image/png": "[encoded data removed]",
      "text/plain": [
       "<Figure size 360x360 with 1 Axes>"
      ]
     },
     "metadata": {
      "needs_background": "light"
     },
     "output_type": "display_data"
    }
   ],
   "source": [
    "fig = plt.figure(figsize=(5,5))\n",
    "sb.distplot(df['amount'])\n",
    "plt.show()"
   ]
  },
  {
   "cell_type": "code",
   "execution_count": 17,
   "id": "aefa71d5",
   "metadata": {
    "ExecuteTime": {
     "end_time": "2022-05-26T18:47:43.824410Z",
     "start_time": "2022-05-26T18:47:43.427320Z"
    }
   },
   "outputs": [
    {
     "data": {
      "image/png": "[encoded data removed]",
      "text/plain": [
       "<Figure size 360x360 with 1 Axes>"
      ]
     },
     "metadata": {
      "needs_background": "light"
     },
     "output_type": "display_data"
    }
   ],
   "source": [
    "fig = plt.figure(figsize=(5,5))\n",
    "sb.boxplot(df['amount'])\n",
    "plt.show()"
   ]
  },
  {
   "cell_type": "markdown",
   "id": "f2250c59",
   "metadata": {},
   "source": [
    "##### oldbalanceOrg"
   ]
  },
  {
   "cell_type": "code",
   "execution_count": 18,
   "id": "3f91c4b6",
   "metadata": {
    "ExecuteTime": {
     "end_time": "2022-05-26T18:47:43.968442Z",
     "start_time": "2022-05-26T18:47:43.825410Z"
    }
   },
   "outputs": [
    {
     "name": "stdout",
     "output_type": "stream",
     "text": [
      "0.0\n",
      "113438.0\n",
      "upper_limit: 283595.0\n",
      "lower_limit: -170157.0\n"
     ]
    }
   ],
   "source": [
    "percentile25 = df['oldbalanceOrg'].quantile(0.25)\n",
    "percentile75 = df['oldbalanceOrg'].quantile(0.75)\n",
    "\n",
    "iqr=percentile75-percentile25\n",
    "\n",
    "upper_limit = percentile75 + (1.5 * iqr)\n",
    "lower_limit = percentile25 - (1.5 * iqr)\n",
    "\n",
    "print(percentile25)\n",
    "print(percentile75)\n",
    "print(\"upper_limit:\",upper_limit)\n",
    "print(\"lower_limit:\",lower_limit)"
   ]
  },
  {
   "cell_type": "code",
   "execution_count": 19,
   "id": "4f53c42d",
   "metadata": {
    "ExecuteTime": {
     "end_time": "2022-05-26T18:47:44.000450Z",
     "start_time": "2022-05-26T18:47:43.969443Z"
    }
   },
   "outputs": [
    {
     "data": {
      "text/plain": [
       "0.0"
      ]
     },
     "execution_count": 19,
     "metadata": {},
     "output_type": "execute_result"
    }
   ],
   "source": [
    "df['oldbalanceOrg'].min()"
   ]
  },
  {
   "cell_type": "code",
   "execution_count": 20,
   "id": "b4131366",
   "metadata": {
    "ExecuteTime": {
     "end_time": "2022-05-26T18:47:44.414543Z",
     "start_time": "2022-05-26T18:47:44.001450Z"
    },
    "scrolled": false
   },
   "outputs": [
    {
     "data": {
      "text/html": [
       "<div>\n",
       "<style scoped>\n",
       "    .dataframe tbody tr th:only-of-type {\n",
       "        vertical-align: middle;\n",
       "    }\n",
       "\n",
       "    .dataframe tbody tr th {\n",
       "        vertical-align: top;\n",
       "    }\n",
       "\n",
       "    .dataframe thead th {\n",
       "        text-align: right;\n",
       "    }\n",
       "</style>\n",
       "<table border=\"1\" class=\"dataframe\">\n",
       "  <thead>\n",
       "    <tr style=\"text-align: right;\">\n",
       "      <th></th>\n",
       "      <th>step</th>\n",
       "      <th>type</th>\n",
       "      <th>amount</th>\n",
       "      <th>nameOrig</th>\n",
       "      <th>oldbalanceOrg</th>\n",
       "      <th>newbalanceOrig</th>\n",
       "      <th>nameDest</th>\n",
       "      <th>oldbalanceDest</th>\n",
       "      <th>newbalanceDest</th>\n",
       "      <th>isFraud</th>\n",
       "      <th>isFlaggedFraud</th>\n",
       "    </tr>\n",
       "  </thead>\n",
       "  <tbody>\n",
       "    <tr>\n",
       "      <th>0</th>\n",
       "      <td>1</td>\n",
       "      <td>PAYMENT</td>\n",
       "      <td>9839.64</td>\n",
       "      <td>C1231006815</td>\n",
       "      <td>170136.00</td>\n",
       "      <td>160296.36</td>\n",
       "      <td>M1979787155</td>\n",
       "      <td>0.00</td>\n",
       "      <td>0.00</td>\n",
       "      <td>0</td>\n",
       "      <td>0</td>\n",
       "    </tr>\n",
       "    <tr>\n",
       "      <th>1</th>\n",
       "      <td>1</td>\n",
       "      <td>PAYMENT</td>\n",
       "      <td>1864.28</td>\n",
       "      <td>C1666544295</td>\n",
       "      <td>21249.00</td>\n",
       "      <td>19384.72</td>\n",
       "      <td>M2044282225</td>\n",
       "      <td>0.00</td>\n",
       "      <td>0.00</td>\n",
       "      <td>0</td>\n",
       "      <td>0</td>\n",
       "    </tr>\n",
       "    <tr>\n",
       "      <th>2</th>\n",
       "      <td>1</td>\n",
       "      <td>TRANSFER</td>\n",
       "      <td>181.00</td>\n",
       "      <td>C1305486145</td>\n",
       "      <td>181.00</td>\n",
       "      <td>0.00</td>\n",
       "      <td>C553264065</td>\n",
       "      <td>0.00</td>\n",
       "      <td>0.00</td>\n",
       "      <td>1</td>\n",
       "      <td>0</td>\n",
       "    </tr>\n",
       "    <tr>\n",
       "      <th>3</th>\n",
       "      <td>1</td>\n",
       "      <td>CASH_OUT</td>\n",
       "      <td>181.00</td>\n",
       "      <td>C840083671</td>\n",
       "      <td>181.00</td>\n",
       "      <td>0.00</td>\n",
       "      <td>C38997010</td>\n",
       "      <td>21182.00</td>\n",
       "      <td>0.00</td>\n",
       "      <td>1</td>\n",
       "      <td>0</td>\n",
       "    </tr>\n",
       "    <tr>\n",
       "      <th>4</th>\n",
       "      <td>1</td>\n",
       "      <td>PAYMENT</td>\n",
       "      <td>11668.14</td>\n",
       "      <td>C2048537720</td>\n",
       "      <td>41554.00</td>\n",
       "      <td>29885.86</td>\n",
       "      <td>M1230701703</td>\n",
       "      <td>0.00</td>\n",
       "      <td>0.00</td>\n",
       "      <td>0</td>\n",
       "      <td>0</td>\n",
       "    </tr>\n",
       "    <tr>\n",
       "      <th>...</th>\n",
       "      <td>...</td>\n",
       "      <td>...</td>\n",
       "      <td>...</td>\n",
       "      <td>...</td>\n",
       "      <td>...</td>\n",
       "      <td>...</td>\n",
       "      <td>...</td>\n",
       "      <td>...</td>\n",
       "      <td>...</td>\n",
       "      <td>...</td>\n",
       "      <td>...</td>\n",
       "    </tr>\n",
       "    <tr>\n",
       "      <th>6362605</th>\n",
       "      <td>742</td>\n",
       "      <td>CASH_OUT</td>\n",
       "      <td>54652.46</td>\n",
       "      <td>C43545501</td>\n",
       "      <td>54652.46</td>\n",
       "      <td>0.00</td>\n",
       "      <td>C830041824</td>\n",
       "      <td>0.00</td>\n",
       "      <td>54652.46</td>\n",
       "      <td>1</td>\n",
       "      <td>0</td>\n",
       "    </tr>\n",
       "    <tr>\n",
       "      <th>6362608</th>\n",
       "      <td>742</td>\n",
       "      <td>TRANSFER</td>\n",
       "      <td>258355.42</td>\n",
       "      <td>C1226129332</td>\n",
       "      <td>258355.42</td>\n",
       "      <td>0.00</td>\n",
       "      <td>C1744173808</td>\n",
       "      <td>0.00</td>\n",
       "      <td>0.00</td>\n",
       "      <td>1</td>\n",
       "      <td>0</td>\n",
       "    </tr>\n",
       "    <tr>\n",
       "      <th>6362609</th>\n",
       "      <td>742</td>\n",
       "      <td>CASH_OUT</td>\n",
       "      <td>258355.42</td>\n",
       "      <td>C1113162093</td>\n",
       "      <td>258355.42</td>\n",
       "      <td>0.00</td>\n",
       "      <td>C797688696</td>\n",
       "      <td>25176.67</td>\n",
       "      <td>283532.09</td>\n",
       "      <td>1</td>\n",
       "      <td>0</td>\n",
       "    </tr>\n",
       "    <tr>\n",
       "      <th>6362610</th>\n",
       "      <td>742</td>\n",
       "      <td>TRANSFER</td>\n",
       "      <td>63416.99</td>\n",
       "      <td>C778071008</td>\n",
       "      <td>63416.99</td>\n",
       "      <td>0.00</td>\n",
       "      <td>C1812552860</td>\n",
       "      <td>0.00</td>\n",
       "      <td>0.00</td>\n",
       "      <td>1</td>\n",
       "      <td>0</td>\n",
       "    </tr>\n",
       "    <tr>\n",
       "      <th>6362611</th>\n",
       "      <td>742</td>\n",
       "      <td>CASH_OUT</td>\n",
       "      <td>63416.99</td>\n",
       "      <td>C994950684</td>\n",
       "      <td>63416.99</td>\n",
       "      <td>0.00</td>\n",
       "      <td>C1662241365</td>\n",
       "      <td>276433.18</td>\n",
       "      <td>339850.17</td>\n",
       "      <td>1</td>\n",
       "      <td>0</td>\n",
       "    </tr>\n",
       "  </tbody>\n",
       "</table>\n",
       "<p>4963379 rows × 11 columns</p>\n",
       "</div>"
      ],
      "text/plain": [
       "         step      type     amount     nameOrig  oldbalanceOrg  \\\n",
       "0           1   PAYMENT    9839.64  C1231006815      170136.00   \n",
       "1           1   PAYMENT    1864.28  C1666544295       21249.00   \n",
       "2           1  TRANSFER     181.00  C1305486145         181.00   \n",
       "3           1  CASH_OUT     181.00   C840083671         181.00   \n",
       "4           1   PAYMENT   11668.14  C2048537720       41554.00   \n",
       "...       ...       ...        ...          ...            ...   \n",
       "6362605   742  CASH_OUT   54652.46    C43545501       54652.46   \n",
       "6362608   742  TRANSFER  258355.42  C1226129332      258355.42   \n",
       "6362609   742  CASH_OUT  258355.42  C1113162093      258355.42   \n",
       "6362610   742  TRANSFER   63416.99   C778071008       63416.99   \n",
       "6362611   742  CASH_OUT   63416.99   C994950684       63416.99   \n",
       "\n",
       "         newbalanceOrig     nameDest  oldbalanceDest  newbalanceDest  isFraud  \\\n",
       "0             160296.36  M1979787155            0.00            0.00        0   \n",
       "1              19384.72  M2044282225            0.00            0.00        0   \n",
       "2                  0.00   C553264065            0.00            0.00        1   \n",
       "3                  0.00    C38997010        21182.00            0.00        1   \n",
       "4              29885.86  M1230701703            0.00            0.00        0   \n",
       "...                 ...          ...             ...             ...      ...   \n",
       "6362605            0.00   C830041824            0.00        54652.46        1   \n",
       "6362608            0.00  C1744173808            0.00            0.00        1   \n",
       "6362609            0.00   C797688696        25176.67       283532.09        1   \n",
       "6362610            0.00  C1812552860            0.00            0.00        1   \n",
       "6362611            0.00  C1662241365       276433.18       339850.17        1   \n",
       "\n",
       "         isFlaggedFraud  \n",
       "0                     0  \n",
       "1                     0  \n",
       "2                     0  \n",
       "3                     0  \n",
       "4                     0  \n",
       "...                 ...  \n",
       "6362605               0  \n",
       "6362608               0  \n",
       "6362609               0  \n",
       "6362610               0  \n",
       "6362611               0  \n",
       "\n",
       "[4963379 rows x 11 columns]"
      ]
     },
     "execution_count": 20,
     "metadata": {},
     "output_type": "execute_result"
    }
   ],
   "source": [
    "df = df[(df['oldbalanceOrg'] < 283595) & (df['oldbalanceOrg'] >=0)]\n",
    "df"
   ]
  },
  {
   "cell_type": "code",
   "execution_count": 21,
   "id": "8536d323",
   "metadata": {
    "ExecuteTime": {
     "end_time": "2022-05-26T18:48:16.471698Z",
     "start_time": "2022-05-26T18:47:44.415544Z"
    }
   },
   "outputs": [
    {
     "data": {
      "image/png": "[encoded data removed]",
      "text/plain": [
       "<Figure size 360x360 with 1 Axes>"
      ]
     },
     "metadata": {
      "needs_background": "light"
     },
     "output_type": "display_data"
    }
   ],
   "source": [
    "fig = plt.figure(figsize=(5,5))\n",
    "sb.distplot(df['oldbalanceOrg'])\n",
    "plt.show()"
   ]
  },
  {
   "cell_type": "code",
   "execution_count": 22,
   "id": "38dd52db",
   "metadata": {
    "ExecuteTime": {
     "end_time": "2022-05-26T18:48:17.428914Z",
     "start_time": "2022-05-26T18:48:16.472699Z"
    }
   },
   "outputs": [
    {
     "data": {
      "image/png": "[encoded data removed]",
      "text/plain": [
       "<Figure size 360x360 with 1 Axes>"
      ]
     },
     "metadata": {
      "needs_background": "light"
     },
     "output_type": "display_data"
    }
   ],
   "source": [
    "fig = plt.figure(figsize=(5,5))\n",
    "sb.boxplot(df['oldbalanceOrg'])\n",
    "plt.show()"
   ]
  },
  {
   "cell_type": "markdown",
   "id": "aa66e0ce",
   "metadata": {},
   "source": [
    "##### newbalanceOrig"
   ]
  },
  {
   "cell_type": "code",
   "execution_count": 23,
   "id": "590b8ef8",
   "metadata": {
    "ExecuteTime": {
     "end_time": "2022-05-26T18:48:17.555943Z",
     "start_time": "2022-05-26T18:48:17.429915Z"
    }
   },
   "outputs": [
    {
     "name": "stdout",
     "output_type": "stream",
     "text": [
      "0.0\n",
      "24167.975\n",
      "upper_limit: 60419.93749999999\n",
      "lower_limit: -36251.962499999994\n"
     ]
    }
   ],
   "source": [
    "percentile25 = df['newbalanceOrig'].quantile(0.25)\n",
    "percentile75 = df['newbalanceOrig'].quantile(0.75)\n",
    "\n",
    "iqr=percentile75-percentile25\n",
    "\n",
    "upper_limit = percentile75 + (1.5 * iqr)\n",
    "lower_limit = percentile25 - (1.5 * iqr)\n",
    "\n",
    "print(percentile25)\n",
    "print(percentile75)\n",
    "print(\"upper_limit:\",upper_limit)\n",
    "print(\"lower_limit:\",lower_limit)"
   ]
  },
  {
   "cell_type": "code",
   "execution_count": 24,
   "id": "0adc468c",
   "metadata": {
    "ExecuteTime": {
     "end_time": "2022-05-26T18:48:17.571946Z",
     "start_time": "2022-05-26T18:48:17.556943Z"
    }
   },
   "outputs": [
    {
     "data": {
      "text/plain": [
       "0.0"
      ]
     },
     "execution_count": 24,
     "metadata": {},
     "output_type": "execute_result"
    }
   ],
   "source": [
    "df['newbalanceOrig'].min()"
   ]
  },
  {
   "cell_type": "code",
   "execution_count": 25,
   "id": "bbea817a",
   "metadata": {
    "ExecuteTime": {
     "end_time": "2022-05-26T18:48:17.940028Z",
     "start_time": "2022-05-26T18:48:17.572945Z"
    },
    "scrolled": false
   },
   "outputs": [
    {
     "data": {
      "text/html": [
       "<div>\n",
       "<style scoped>\n",
       "    .dataframe tbody tr th:only-of-type {\n",
       "        vertical-align: middle;\n",
       "    }\n",
       "\n",
       "    .dataframe tbody tr th {\n",
       "        vertical-align: top;\n",
       "    }\n",
       "\n",
       "    .dataframe thead th {\n",
       "        text-align: right;\n",
       "    }\n",
       "</style>\n",
       "<table border=\"1\" class=\"dataframe\">\n",
       "  <thead>\n",
       "    <tr style=\"text-align: right;\">\n",
       "      <th></th>\n",
       "      <th>step</th>\n",
       "      <th>type</th>\n",
       "      <th>amount</th>\n",
       "      <th>nameOrig</th>\n",
       "      <th>oldbalanceOrg</th>\n",
       "      <th>newbalanceOrig</th>\n",
       "      <th>nameDest</th>\n",
       "      <th>oldbalanceDest</th>\n",
       "      <th>newbalanceDest</th>\n",
       "      <th>isFraud</th>\n",
       "      <th>isFlaggedFraud</th>\n",
       "    </tr>\n",
       "  </thead>\n",
       "  <tbody>\n",
       "    <tr>\n",
       "      <th>1</th>\n",
       "      <td>1</td>\n",
       "      <td>PAYMENT</td>\n",
       "      <td>1864.28</td>\n",
       "      <td>C1666544295</td>\n",
       "      <td>21249.00</td>\n",
       "      <td>19384.72</td>\n",
       "      <td>M2044282225</td>\n",
       "      <td>0.00</td>\n",
       "      <td>0.00</td>\n",
       "      <td>0</td>\n",
       "      <td>0</td>\n",
       "    </tr>\n",
       "    <tr>\n",
       "      <th>2</th>\n",
       "      <td>1</td>\n",
       "      <td>TRANSFER</td>\n",
       "      <td>181.00</td>\n",
       "      <td>C1305486145</td>\n",
       "      <td>181.00</td>\n",
       "      <td>0.00</td>\n",
       "      <td>C553264065</td>\n",
       "      <td>0.00</td>\n",
       "      <td>0.00</td>\n",
       "      <td>1</td>\n",
       "      <td>0</td>\n",
       "    </tr>\n",
       "    <tr>\n",
       "      <th>3</th>\n",
       "      <td>1</td>\n",
       "      <td>CASH_OUT</td>\n",
       "      <td>181.00</td>\n",
       "      <td>C840083671</td>\n",
       "      <td>181.00</td>\n",
       "      <td>0.00</td>\n",
       "      <td>C38997010</td>\n",
       "      <td>21182.00</td>\n",
       "      <td>0.00</td>\n",
       "      <td>1</td>\n",
       "      <td>0</td>\n",
       "    </tr>\n",
       "    <tr>\n",
       "      <th>4</th>\n",
       "      <td>1</td>\n",
       "      <td>PAYMENT</td>\n",
       "      <td>11668.14</td>\n",
       "      <td>C2048537720</td>\n",
       "      <td>41554.00</td>\n",
       "      <td>29885.86</td>\n",
       "      <td>M1230701703</td>\n",
       "      <td>0.00</td>\n",
       "      <td>0.00</td>\n",
       "      <td>0</td>\n",
       "      <td>0</td>\n",
       "    </tr>\n",
       "    <tr>\n",
       "      <th>5</th>\n",
       "      <td>1</td>\n",
       "      <td>PAYMENT</td>\n",
       "      <td>7817.71</td>\n",
       "      <td>C90045638</td>\n",
       "      <td>53860.00</td>\n",
       "      <td>46042.29</td>\n",
       "      <td>M573487274</td>\n",
       "      <td>0.00</td>\n",
       "      <td>0.00</td>\n",
       "      <td>0</td>\n",
       "      <td>0</td>\n",
       "    </tr>\n",
       "    <tr>\n",
       "      <th>...</th>\n",
       "      <td>...</td>\n",
       "      <td>...</td>\n",
       "      <td>...</td>\n",
       "      <td>...</td>\n",
       "      <td>...</td>\n",
       "      <td>...</td>\n",
       "      <td>...</td>\n",
       "      <td>...</td>\n",
       "      <td>...</td>\n",
       "      <td>...</td>\n",
       "      <td>...</td>\n",
       "    </tr>\n",
       "    <tr>\n",
       "      <th>6362605</th>\n",
       "      <td>742</td>\n",
       "      <td>CASH_OUT</td>\n",
       "      <td>54652.46</td>\n",
       "      <td>C43545501</td>\n",
       "      <td>54652.46</td>\n",
       "      <td>0.00</td>\n",
       "      <td>C830041824</td>\n",
       "      <td>0.00</td>\n",
       "      <td>54652.46</td>\n",
       "      <td>1</td>\n",
       "      <td>0</td>\n",
       "    </tr>\n",
       "    <tr>\n",
       "      <th>6362608</th>\n",
       "      <td>742</td>\n",
       "      <td>TRANSFER</td>\n",
       "      <td>258355.42</td>\n",
       "      <td>C1226129332</td>\n",
       "      <td>258355.42</td>\n",
       "      <td>0.00</td>\n",
       "      <td>C1744173808</td>\n",
       "      <td>0.00</td>\n",
       "      <td>0.00</td>\n",
       "      <td>1</td>\n",
       "      <td>0</td>\n",
       "    </tr>\n",
       "    <tr>\n",
       "      <th>6362609</th>\n",
       "      <td>742</td>\n",
       "      <td>CASH_OUT</td>\n",
       "      <td>258355.42</td>\n",
       "      <td>C1113162093</td>\n",
       "      <td>258355.42</td>\n",
       "      <td>0.00</td>\n",
       "      <td>C797688696</td>\n",
       "      <td>25176.67</td>\n",
       "      <td>283532.09</td>\n",
       "      <td>1</td>\n",
       "      <td>0</td>\n",
       "    </tr>\n",
       "    <tr>\n",
       "      <th>6362610</th>\n",
       "      <td>742</td>\n",
       "      <td>TRANSFER</td>\n",
       "      <td>63416.99</td>\n",
       "      <td>C778071008</td>\n",
       "      <td>63416.99</td>\n",
       "      <td>0.00</td>\n",
       "      <td>C1812552860</td>\n",
       "      <td>0.00</td>\n",
       "      <td>0.00</td>\n",
       "      <td>1</td>\n",
       "      <td>0</td>\n",
       "    </tr>\n",
       "    <tr>\n",
       "      <th>6362611</th>\n",
       "      <td>742</td>\n",
       "      <td>CASH_OUT</td>\n",
       "      <td>63416.99</td>\n",
       "      <td>C994950684</td>\n",
       "      <td>63416.99</td>\n",
       "      <td>0.00</td>\n",
       "      <td>C1662241365</td>\n",
       "      <td>276433.18</td>\n",
       "      <td>339850.17</td>\n",
       "      <td>1</td>\n",
       "      <td>0</td>\n",
       "    </tr>\n",
       "  </tbody>\n",
       "</table>\n",
       "<p>4039718 rows × 11 columns</p>\n",
       "</div>"
      ],
      "text/plain": [
       "         step      type     amount     nameOrig  oldbalanceOrg  \\\n",
       "1           1   PAYMENT    1864.28  C1666544295       21249.00   \n",
       "2           1  TRANSFER     181.00  C1305486145         181.00   \n",
       "3           1  CASH_OUT     181.00   C840083671         181.00   \n",
       "4           1   PAYMENT   11668.14  C2048537720       41554.00   \n",
       "5           1   PAYMENT    7817.71    C90045638       53860.00   \n",
       "...       ...       ...        ...          ...            ...   \n",
       "6362605   742  CASH_OUT   54652.46    C43545501       54652.46   \n",
       "6362608   742  TRANSFER  258355.42  C1226129332      258355.42   \n",
       "6362609   742  CASH_OUT  258355.42  C1113162093      258355.42   \n",
       "6362610   742  TRANSFER   63416.99   C778071008       63416.99   \n",
       "6362611   742  CASH_OUT   63416.99   C994950684       63416.99   \n",
       "\n",
       "         newbalanceOrig     nameDest  oldbalanceDest  newbalanceDest  isFraud  \\\n",
       "1              19384.72  M2044282225            0.00            0.00        0   \n",
       "2                  0.00   C553264065            0.00            0.00        1   \n",
       "3                  0.00    C38997010        21182.00            0.00        1   \n",
       "4              29885.86  M1230701703            0.00            0.00        0   \n",
       "5              46042.29   M573487274            0.00            0.00        0   \n",
       "...                 ...          ...             ...             ...      ...   \n",
       "6362605            0.00   C830041824            0.00        54652.46        1   \n",
       "6362608            0.00  C1744173808            0.00            0.00        1   \n",
       "6362609            0.00   C797688696        25176.67       283532.09        1   \n",
       "6362610            0.00  C1812552860            0.00            0.00        1   \n",
       "6362611            0.00  C1662241365       276433.18       339850.17        1   \n",
       "\n",
       "         isFlaggedFraud  \n",
       "1                     0  \n",
       "2                     0  \n",
       "3                     0  \n",
       "4                     0  \n",
       "5                     0  \n",
       "...                 ...  \n",
       "6362605               0  \n",
       "6362608               0  \n",
       "6362609               0  \n",
       "6362610               0  \n",
       "6362611               0  \n",
       "\n",
       "[4039718 rows x 11 columns]"
      ]
     },
     "execution_count": 25,
     "metadata": {},
     "output_type": "execute_result"
    }
   ],
   "source": [
    "df = df[(df['newbalanceOrig'] < 60419.94) & (df['newbalanceOrig'] >= 0)]\n",
    "df"
   ]
  },
  {
   "cell_type": "code",
   "execution_count": 26,
   "id": "77eea2c0",
   "metadata": {
    "ExecuteTime": {
     "end_time": "2022-05-26T18:48:44.284964Z",
     "start_time": "2022-05-26T18:48:17.941029Z"
    }
   },
   "outputs": [
    {
     "data": {
      "image/png": "[encoded data removed]",
      "text/plain": [
       "<Figure size 360x360 with 1 Axes>"
      ]
     },
     "metadata": {
      "needs_background": "light"
     },
     "output_type": "display_data"
    }
   ],
   "source": [
    "fig = plt.figure(figsize=(5,5))\n",
    "sb.distplot(df['newbalanceOrig'])\n",
    "plt.show()"
   ]
  },
  {
   "cell_type": "code",
   "execution_count": 27,
   "id": "466e208a",
   "metadata": {
    "ExecuteTime": {
     "end_time": "2022-05-26T18:48:45.468182Z",
     "start_time": "2022-05-26T18:48:44.285964Z"
    }
   },
   "outputs": [
    {
     "data": {
      "image/png": "[encoded data removed]",
      "text/plain": [
       "<Figure size 360x360 with 1 Axes>"
      ]
     },
     "metadata": {
      "needs_background": "light"
     },
     "output_type": "display_data"
    }
   ],
   "source": [
    "fig = plt.figure(figsize=(5,5))\n",
    "sb.boxplot(df['newbalanceOrig'])\n",
    "plt.show()"
   ]
  },
  {
   "cell_type": "markdown",
   "id": "e4d0f899",
   "metadata": {},
   "source": [
    "##### oldbalanceDest"
   ]
  },
  {
   "cell_type": "code",
   "execution_count": 28,
   "id": "8e3bdc87",
   "metadata": {
    "ExecuteTime": {
     "end_time": "2022-05-26T18:48:45.580208Z",
     "start_time": "2022-05-26T18:48:45.469182Z"
    }
   },
   "outputs": [
    {
     "name": "stdout",
     "output_type": "stream",
     "text": [
      "0.0\n",
      "697214.7975\n",
      "upper_limit: 1743036.99375\n",
      "lower_limit: -1045822.19625\n"
     ]
    }
   ],
   "source": [
    "percentile25 = df['oldbalanceDest'].quantile(0.25)\n",
    "percentile75 = df['oldbalanceDest'].quantile(0.75)\n",
    "\n",
    "iqr=percentile75-percentile25\n",
    "\n",
    "upper_limit = percentile75 + (1.5 * iqr)\n",
    "lower_limit = percentile25 - (1.5 * iqr)\n",
    "\n",
    "print(percentile25)\n",
    "print(percentile75)\n",
    "print(\"upper_limit:\",upper_limit)\n",
    "print(\"lower_limit:\",lower_limit)"
   ]
  },
  {
   "cell_type": "code",
   "execution_count": 29,
   "id": "d3956c98",
   "metadata": {
    "ExecuteTime": {
     "end_time": "2022-05-26T18:48:45.596213Z",
     "start_time": "2022-05-26T18:48:45.582208Z"
    }
   },
   "outputs": [
    {
     "data": {
      "text/plain": [
       "0.0"
      ]
     },
     "execution_count": 29,
     "metadata": {},
     "output_type": "execute_result"
    }
   ],
   "source": [
    "df['oldbalanceDest'].min()"
   ]
  },
  {
   "cell_type": "code",
   "execution_count": 30,
   "id": "a0c4012f",
   "metadata": {
    "ExecuteTime": {
     "end_time": "2022-05-26T18:48:45.898279Z",
     "start_time": "2022-05-26T18:48:45.597213Z"
    },
    "scrolled": false
   },
   "outputs": [
    {
     "data": {
      "text/html": [
       "<div>\n",
       "<style scoped>\n",
       "    .dataframe tbody tr th:only-of-type {\n",
       "        vertical-align: middle;\n",
       "    }\n",
       "\n",
       "    .dataframe tbody tr th {\n",
       "        vertical-align: top;\n",
       "    }\n",
       "\n",
       "    .dataframe thead th {\n",
       "        text-align: right;\n",
       "    }\n",
       "</style>\n",
       "<table border=\"1\" class=\"dataframe\">\n",
       "  <thead>\n",
       "    <tr style=\"text-align: right;\">\n",
       "      <th></th>\n",
       "      <th>step</th>\n",
       "      <th>type</th>\n",
       "      <th>amount</th>\n",
       "      <th>nameOrig</th>\n",
       "      <th>oldbalanceOrg</th>\n",
       "      <th>newbalanceOrig</th>\n",
       "      <th>nameDest</th>\n",
       "      <th>oldbalanceDest</th>\n",
       "      <th>newbalanceDest</th>\n",
       "      <th>isFraud</th>\n",
       "      <th>isFlaggedFraud</th>\n",
       "    </tr>\n",
       "  </thead>\n",
       "  <tbody>\n",
       "    <tr>\n",
       "      <th>1</th>\n",
       "      <td>1</td>\n",
       "      <td>PAYMENT</td>\n",
       "      <td>1864.28</td>\n",
       "      <td>C1666544295</td>\n",
       "      <td>21249.00</td>\n",
       "      <td>19384.72</td>\n",
       "      <td>M2044282225</td>\n",
       "      <td>0.00</td>\n",
       "      <td>0.00</td>\n",
       "      <td>0</td>\n",
       "      <td>0</td>\n",
       "    </tr>\n",
       "    <tr>\n",
       "      <th>2</th>\n",
       "      <td>1</td>\n",
       "      <td>TRANSFER</td>\n",
       "      <td>181.00</td>\n",
       "      <td>C1305486145</td>\n",
       "      <td>181.00</td>\n",
       "      <td>0.00</td>\n",
       "      <td>C553264065</td>\n",
       "      <td>0.00</td>\n",
       "      <td>0.00</td>\n",
       "      <td>1</td>\n",
       "      <td>0</td>\n",
       "    </tr>\n",
       "    <tr>\n",
       "      <th>3</th>\n",
       "      <td>1</td>\n",
       "      <td>CASH_OUT</td>\n",
       "      <td>181.00</td>\n",
       "      <td>C840083671</td>\n",
       "      <td>181.00</td>\n",
       "      <td>0.00</td>\n",
       "      <td>C38997010</td>\n",
       "      <td>21182.00</td>\n",
       "      <td>0.00</td>\n",
       "      <td>1</td>\n",
       "      <td>0</td>\n",
       "    </tr>\n",
       "    <tr>\n",
       "      <th>4</th>\n",
       "      <td>1</td>\n",
       "      <td>PAYMENT</td>\n",
       "      <td>11668.14</td>\n",
       "      <td>C2048537720</td>\n",
       "      <td>41554.00</td>\n",
       "      <td>29885.86</td>\n",
       "      <td>M1230701703</td>\n",
       "      <td>0.00</td>\n",
       "      <td>0.00</td>\n",
       "      <td>0</td>\n",
       "      <td>0</td>\n",
       "    </tr>\n",
       "    <tr>\n",
       "      <th>5</th>\n",
       "      <td>1</td>\n",
       "      <td>PAYMENT</td>\n",
       "      <td>7817.71</td>\n",
       "      <td>C90045638</td>\n",
       "      <td>53860.00</td>\n",
       "      <td>46042.29</td>\n",
       "      <td>M573487274</td>\n",
       "      <td>0.00</td>\n",
       "      <td>0.00</td>\n",
       "      <td>0</td>\n",
       "      <td>0</td>\n",
       "    </tr>\n",
       "    <tr>\n",
       "      <th>...</th>\n",
       "      <td>...</td>\n",
       "      <td>...</td>\n",
       "      <td>...</td>\n",
       "      <td>...</td>\n",
       "      <td>...</td>\n",
       "      <td>...</td>\n",
       "      <td>...</td>\n",
       "      <td>...</td>\n",
       "      <td>...</td>\n",
       "      <td>...</td>\n",
       "      <td>...</td>\n",
       "    </tr>\n",
       "    <tr>\n",
       "      <th>6362605</th>\n",
       "      <td>742</td>\n",
       "      <td>CASH_OUT</td>\n",
       "      <td>54652.46</td>\n",
       "      <td>C43545501</td>\n",
       "      <td>54652.46</td>\n",
       "      <td>0.00</td>\n",
       "      <td>C830041824</td>\n",
       "      <td>0.00</td>\n",
       "      <td>54652.46</td>\n",
       "      <td>1</td>\n",
       "      <td>0</td>\n",
       "    </tr>\n",
       "    <tr>\n",
       "      <th>6362608</th>\n",
       "      <td>742</td>\n",
       "      <td>TRANSFER</td>\n",
       "      <td>258355.42</td>\n",
       "      <td>C1226129332</td>\n",
       "      <td>258355.42</td>\n",
       "      <td>0.00</td>\n",
       "      <td>C1744173808</td>\n",
       "      <td>0.00</td>\n",
       "      <td>0.00</td>\n",
       "      <td>1</td>\n",
       "      <td>0</td>\n",
       "    </tr>\n",
       "    <tr>\n",
       "      <th>6362609</th>\n",
       "      <td>742</td>\n",
       "      <td>CASH_OUT</td>\n",
       "      <td>258355.42</td>\n",
       "      <td>C1113162093</td>\n",
       "      <td>258355.42</td>\n",
       "      <td>0.00</td>\n",
       "      <td>C797688696</td>\n",
       "      <td>25176.67</td>\n",
       "      <td>283532.09</td>\n",
       "      <td>1</td>\n",
       "      <td>0</td>\n",
       "    </tr>\n",
       "    <tr>\n",
       "      <th>6362610</th>\n",
       "      <td>742</td>\n",
       "      <td>TRANSFER</td>\n",
       "      <td>63416.99</td>\n",
       "      <td>C778071008</td>\n",
       "      <td>63416.99</td>\n",
       "      <td>0.00</td>\n",
       "      <td>C1812552860</td>\n",
       "      <td>0.00</td>\n",
       "      <td>0.00</td>\n",
       "      <td>1</td>\n",
       "      <td>0</td>\n",
       "    </tr>\n",
       "    <tr>\n",
       "      <th>6362611</th>\n",
       "      <td>742</td>\n",
       "      <td>CASH_OUT</td>\n",
       "      <td>63416.99</td>\n",
       "      <td>C994950684</td>\n",
       "      <td>63416.99</td>\n",
       "      <td>0.00</td>\n",
       "      <td>C1662241365</td>\n",
       "      <td>276433.18</td>\n",
       "      <td>339850.17</td>\n",
       "      <td>1</td>\n",
       "      <td>0</td>\n",
       "    </tr>\n",
       "  </tbody>\n",
       "</table>\n",
       "<p>3504063 rows × 11 columns</p>\n",
       "</div>"
      ],
      "text/plain": [
       "         step      type     amount     nameOrig  oldbalanceOrg  \\\n",
       "1           1   PAYMENT    1864.28  C1666544295       21249.00   \n",
       "2           1  TRANSFER     181.00  C1305486145         181.00   \n",
       "3           1  CASH_OUT     181.00   C840083671         181.00   \n",
       "4           1   PAYMENT   11668.14  C2048537720       41554.00   \n",
       "5           1   PAYMENT    7817.71    C90045638       53860.00   \n",
       "...       ...       ...        ...          ...            ...   \n",
       "6362605   742  CASH_OUT   54652.46    C43545501       54652.46   \n",
       "6362608   742  TRANSFER  258355.42  C1226129332      258355.42   \n",
       "6362609   742  CASH_OUT  258355.42  C1113162093      258355.42   \n",
       "6362610   742  TRANSFER   63416.99   C778071008       63416.99   \n",
       "6362611   742  CASH_OUT   63416.99   C994950684       63416.99   \n",
       "\n",
       "         newbalanceOrig     nameDest  oldbalanceDest  newbalanceDest  isFraud  \\\n",
       "1              19384.72  M2044282225            0.00            0.00        0   \n",
       "2                  0.00   C553264065            0.00            0.00        1   \n",
       "3                  0.00    C38997010        21182.00            0.00        1   \n",
       "4              29885.86  M1230701703            0.00            0.00        0   \n",
       "5              46042.29   M573487274            0.00            0.00        0   \n",
       "...                 ...          ...             ...             ...      ...   \n",
       "6362605            0.00   C830041824            0.00        54652.46        1   \n",
       "6362608            0.00  C1744173808            0.00            0.00        1   \n",
       "6362609            0.00   C797688696        25176.67       283532.09        1   \n",
       "6362610            0.00  C1812552860            0.00            0.00        1   \n",
       "6362611            0.00  C1662241365       276433.18       339850.17        1   \n",
       "\n",
       "         isFlaggedFraud  \n",
       "1                     0  \n",
       "2                     0  \n",
       "3                     0  \n",
       "4                     0  \n",
       "5                     0  \n",
       "...                 ...  \n",
       "6362605               0  \n",
       "6362608               0  \n",
       "6362609               0  \n",
       "6362610               0  \n",
       "6362611               0  \n",
       "\n",
       "[3504063 rows x 11 columns]"
      ]
     },
     "execution_count": 30,
     "metadata": {},
     "output_type": "execute_result"
    }
   ],
   "source": [
    "df = df[(df['oldbalanceDest'] < 1743037) & (df['oldbalanceDest'] >= 0)]\n",
    "df"
   ]
  },
  {
   "cell_type": "code",
   "execution_count": 31,
   "id": "a8c3088a",
   "metadata": {
    "ExecuteTime": {
     "end_time": "2022-05-26T18:49:05.956926Z",
     "start_time": "2022-05-26T18:48:45.899279Z"
    }
   },
   "outputs": [
    {
     "data": {
      "image/png": "[encoded data removed]",
      "text/plain": [
       "<Figure size 360x360 with 1 Axes>"
      ]
     },
     "metadata": {
      "needs_background": "light"
     },
     "output_type": "display_data"
    }
   ],
   "source": [
    "fig = plt.figure(figsize=(5,5))\n",
    "sb.distplot(df['oldbalanceDest'])\n",
    "plt.show()"
   ]
  },
  {
   "cell_type": "code",
   "execution_count": 32,
   "id": "e3c3b9fc",
   "metadata": {
    "ExecuteTime": {
     "end_time": "2022-05-26T18:49:06.617087Z",
     "start_time": "2022-05-26T18:49:05.958926Z"
    }
   },
   "outputs": [
    {
     "data": {
      "image/png": "[encoded data removed]",
      "text/plain": [
       "<Figure size 360x360 with 1 Axes>"
      ]
     },
     "metadata": {
      "needs_background": "light"
     },
     "output_type": "display_data"
    }
   ],
   "source": [
    "fig = plt.figure(figsize=(5,5))\n",
    "sb.boxplot(df['oldbalanceDest'])\n",
    "plt.show()"
   ]
  },
  {
   "cell_type": "markdown",
   "id": "f75d43a8",
   "metadata": {},
   "source": [
    "##### newbalanceDest"
   ]
  },
  {
   "cell_type": "code",
   "execution_count": 33,
   "id": "dc63c903",
   "metadata": {
    "ExecuteTime": {
     "end_time": "2022-05-26T18:49:06.712109Z",
     "start_time": "2022-05-26T18:49:06.618088Z"
    }
   },
   "outputs": [
    {
     "name": "stdout",
     "output_type": "stream",
     "text": [
      "0.0\n",
      "506369.14\n",
      "upper_limit: 1265922.85\n",
      "lower_limit: -759553.71\n"
     ]
    }
   ],
   "source": [
    "percentile25 = df['newbalanceDest'].quantile(0.25)\n",
    "percentile75 = df['newbalanceDest'].quantile(0.75)\n",
    "\n",
    "iqr=percentile75-percentile25\n",
    "\n",
    "upper_limit = percentile75 + (1.5 * iqr)\n",
    "lower_limit = percentile25 - (1.5 * iqr)\n",
    "\n",
    "print(percentile25)\n",
    "print(percentile75)\n",
    "print(\"upper_limit:\",upper_limit)\n",
    "print(\"lower_limit:\",lower_limit)"
   ]
  },
  {
   "cell_type": "code",
   "execution_count": 34,
   "id": "4a7fc338",
   "metadata": {
    "ExecuteTime": {
     "end_time": "2022-05-26T18:49:06.728113Z",
     "start_time": "2022-05-26T18:49:06.713110Z"
    }
   },
   "outputs": [
    {
     "data": {
      "text/plain": [
       "0.0"
      ]
     },
     "execution_count": 34,
     "metadata": {},
     "output_type": "execute_result"
    }
   ],
   "source": [
    "df['newbalanceDest'].min()"
   ]
  },
  {
   "cell_type": "code",
   "execution_count": 35,
   "id": "f6745b75",
   "metadata": {
    "ExecuteTime": {
     "end_time": "2022-05-26T18:49:07.029943Z",
     "start_time": "2022-05-26T18:49:06.729114Z"
    },
    "scrolled": false
   },
   "outputs": [
    {
     "data": {
      "text/html": [
       "<div>\n",
       "<style scoped>\n",
       "    .dataframe tbody tr th:only-of-type {\n",
       "        vertical-align: middle;\n",
       "    }\n",
       "\n",
       "    .dataframe tbody tr th {\n",
       "        vertical-align: top;\n",
       "    }\n",
       "\n",
       "    .dataframe thead th {\n",
       "        text-align: right;\n",
       "    }\n",
       "</style>\n",
       "<table border=\"1\" class=\"dataframe\">\n",
       "  <thead>\n",
       "    <tr style=\"text-align: right;\">\n",
       "      <th></th>\n",
       "      <th>step</th>\n",
       "      <th>type</th>\n",
       "      <th>amount</th>\n",
       "      <th>nameOrig</th>\n",
       "      <th>oldbalanceOrg</th>\n",
       "      <th>newbalanceOrig</th>\n",
       "      <th>nameDest</th>\n",
       "      <th>oldbalanceDest</th>\n",
       "      <th>newbalanceDest</th>\n",
       "      <th>isFraud</th>\n",
       "      <th>isFlaggedFraud</th>\n",
       "    </tr>\n",
       "  </thead>\n",
       "  <tbody>\n",
       "    <tr>\n",
       "      <th>1</th>\n",
       "      <td>1</td>\n",
       "      <td>PAYMENT</td>\n",
       "      <td>1864.28</td>\n",
       "      <td>C1666544295</td>\n",
       "      <td>21249.00</td>\n",
       "      <td>19384.72</td>\n",
       "      <td>M2044282225</td>\n",
       "      <td>0.00</td>\n",
       "      <td>0.00</td>\n",
       "      <td>0</td>\n",
       "      <td>0</td>\n",
       "    </tr>\n",
       "    <tr>\n",
       "      <th>2</th>\n",
       "      <td>1</td>\n",
       "      <td>TRANSFER</td>\n",
       "      <td>181.00</td>\n",
       "      <td>C1305486145</td>\n",
       "      <td>181.00</td>\n",
       "      <td>0.00</td>\n",
       "      <td>C553264065</td>\n",
       "      <td>0.00</td>\n",
       "      <td>0.00</td>\n",
       "      <td>1</td>\n",
       "      <td>0</td>\n",
       "    </tr>\n",
       "    <tr>\n",
       "      <th>3</th>\n",
       "      <td>1</td>\n",
       "      <td>CASH_OUT</td>\n",
       "      <td>181.00</td>\n",
       "      <td>C840083671</td>\n",
       "      <td>181.00</td>\n",
       "      <td>0.00</td>\n",
       "      <td>C38997010</td>\n",
       "      <td>21182.00</td>\n",
       "      <td>0.00</td>\n",
       "      <td>1</td>\n",
       "      <td>0</td>\n",
       "    </tr>\n",
       "    <tr>\n",
       "      <th>4</th>\n",
       "      <td>1</td>\n",
       "      <td>PAYMENT</td>\n",
       "      <td>11668.14</td>\n",
       "      <td>C2048537720</td>\n",
       "      <td>41554.00</td>\n",
       "      <td>29885.86</td>\n",
       "      <td>M1230701703</td>\n",
       "      <td>0.00</td>\n",
       "      <td>0.00</td>\n",
       "      <td>0</td>\n",
       "      <td>0</td>\n",
       "    </tr>\n",
       "    <tr>\n",
       "      <th>5</th>\n",
       "      <td>1</td>\n",
       "      <td>PAYMENT</td>\n",
       "      <td>7817.71</td>\n",
       "      <td>C90045638</td>\n",
       "      <td>53860.00</td>\n",
       "      <td>46042.29</td>\n",
       "      <td>M573487274</td>\n",
       "      <td>0.00</td>\n",
       "      <td>0.00</td>\n",
       "      <td>0</td>\n",
       "      <td>0</td>\n",
       "    </tr>\n",
       "    <tr>\n",
       "      <th>...</th>\n",
       "      <td>...</td>\n",
       "      <td>...</td>\n",
       "      <td>...</td>\n",
       "      <td>...</td>\n",
       "      <td>...</td>\n",
       "      <td>...</td>\n",
       "      <td>...</td>\n",
       "      <td>...</td>\n",
       "      <td>...</td>\n",
       "      <td>...</td>\n",
       "      <td>...</td>\n",
       "    </tr>\n",
       "    <tr>\n",
       "      <th>6362605</th>\n",
       "      <td>742</td>\n",
       "      <td>CASH_OUT</td>\n",
       "      <td>54652.46</td>\n",
       "      <td>C43545501</td>\n",
       "      <td>54652.46</td>\n",
       "      <td>0.00</td>\n",
       "      <td>C830041824</td>\n",
       "      <td>0.00</td>\n",
       "      <td>54652.46</td>\n",
       "      <td>1</td>\n",
       "      <td>0</td>\n",
       "    </tr>\n",
       "    <tr>\n",
       "      <th>6362608</th>\n",
       "      <td>742</td>\n",
       "      <td>TRANSFER</td>\n",
       "      <td>258355.42</td>\n",
       "      <td>C1226129332</td>\n",
       "      <td>258355.42</td>\n",
       "      <td>0.00</td>\n",
       "      <td>C1744173808</td>\n",
       "      <td>0.00</td>\n",
       "      <td>0.00</td>\n",
       "      <td>1</td>\n",
       "      <td>0</td>\n",
       "    </tr>\n",
       "    <tr>\n",
       "      <th>6362609</th>\n",
       "      <td>742</td>\n",
       "      <td>CASH_OUT</td>\n",
       "      <td>258355.42</td>\n",
       "      <td>C1113162093</td>\n",
       "      <td>258355.42</td>\n",
       "      <td>0.00</td>\n",
       "      <td>C797688696</td>\n",
       "      <td>25176.67</td>\n",
       "      <td>283532.09</td>\n",
       "      <td>1</td>\n",
       "      <td>0</td>\n",
       "    </tr>\n",
       "    <tr>\n",
       "      <th>6362610</th>\n",
       "      <td>742</td>\n",
       "      <td>TRANSFER</td>\n",
       "      <td>63416.99</td>\n",
       "      <td>C778071008</td>\n",
       "      <td>63416.99</td>\n",
       "      <td>0.00</td>\n",
       "      <td>C1812552860</td>\n",
       "      <td>0.00</td>\n",
       "      <td>0.00</td>\n",
       "      <td>1</td>\n",
       "      <td>0</td>\n",
       "    </tr>\n",
       "    <tr>\n",
       "      <th>6362611</th>\n",
       "      <td>742</td>\n",
       "      <td>CASH_OUT</td>\n",
       "      <td>63416.99</td>\n",
       "      <td>C994950684</td>\n",
       "      <td>63416.99</td>\n",
       "      <td>0.00</td>\n",
       "      <td>C1662241365</td>\n",
       "      <td>276433.18</td>\n",
       "      <td>339850.17</td>\n",
       "      <td>1</td>\n",
       "      <td>0</td>\n",
       "    </tr>\n",
       "  </tbody>\n",
       "</table>\n",
       "<p>3251409 rows × 11 columns</p>\n",
       "</div>"
      ],
      "text/plain": [
       "         step      type     amount     nameOrig  oldbalanceOrg  \\\n",
       "1           1   PAYMENT    1864.28  C1666544295       21249.00   \n",
       "2           1  TRANSFER     181.00  C1305486145         181.00   \n",
       "3           1  CASH_OUT     181.00   C840083671         181.00   \n",
       "4           1   PAYMENT   11668.14  C2048537720       41554.00   \n",
       "5           1   PAYMENT    7817.71    C90045638       53860.00   \n",
       "...       ...       ...        ...          ...            ...   \n",
       "6362605   742  CASH_OUT   54652.46    C43545501       54652.46   \n",
       "6362608   742  TRANSFER  258355.42  C1226129332      258355.42   \n",
       "6362609   742  CASH_OUT  258355.42  C1113162093      258355.42   \n",
       "6362610   742  TRANSFER   63416.99   C778071008       63416.99   \n",
       "6362611   742  CASH_OUT   63416.99   C994950684       63416.99   \n",
       "\n",
       "         newbalanceOrig     nameDest  oldbalanceDest  newbalanceDest  isFraud  \\\n",
       "1              19384.72  M2044282225            0.00            0.00        0   \n",
       "2                  0.00   C553264065            0.00            0.00        1   \n",
       "3                  0.00    C38997010        21182.00            0.00        1   \n",
       "4              29885.86  M1230701703            0.00            0.00        0   \n",
       "5              46042.29   M573487274            0.00            0.00        0   \n",
       "...                 ...          ...             ...             ...      ...   \n",
       "6362605            0.00   C830041824            0.00        54652.46        1   \n",
       "6362608            0.00  C1744173808            0.00            0.00        1   \n",
       "6362609            0.00   C797688696        25176.67       283532.09        1   \n",
       "6362610            0.00  C1812552860            0.00            0.00        1   \n",
       "6362611            0.00  C1662241365       276433.18       339850.17        1   \n",
       "\n",
       "         isFlaggedFraud  \n",
       "1                     0  \n",
       "2                     0  \n",
       "3                     0  \n",
       "4                     0  \n",
       "5                     0  \n",
       "...                 ...  \n",
       "6362605               0  \n",
       "6362608               0  \n",
       "6362609               0  \n",
       "6362610               0  \n",
       "6362611               0  \n",
       "\n",
       "[3251409 rows x 11 columns]"
      ]
     },
     "execution_count": 35,
     "metadata": {},
     "output_type": "execute_result"
    }
   ],
   "source": [
    "df = df[(df['newbalanceDest'] < 1265922.85) & (df['newbalanceDest'] >= 0)]\n",
    "df"
   ]
  },
  {
   "cell_type": "code",
   "execution_count": 36,
   "id": "feb7bc1d",
   "metadata": {
    "ExecuteTime": {
     "end_time": "2022-05-26T18:49:23.596177Z",
     "start_time": "2022-05-26T18:49:07.030944Z"
    }
   },
   "outputs": [
    {
     "data": {
      "image/png": "[encoded data removed]",
      "text/plain": [
       "<Figure size 360x360 with 1 Axes>"
      ]
     },
     "metadata": {
      "needs_background": "light"
     },
     "output_type": "display_data"
    }
   ],
   "source": [
    "fig = plt.figure(figsize=(5,5))\n",
    "sb.distplot(df['newbalanceDest'])\n",
    "plt.show()"
   ]
  },
  {
   "cell_type": "code",
   "execution_count": 37,
   "id": "972f31f6",
   "metadata": {
    "ExecuteTime": {
     "end_time": "2022-05-26T18:49:23.990266Z",
     "start_time": "2022-05-26T18:49:23.597178Z"
    }
   },
   "outputs": [
    {
     "data": {
      "image/png": "[encoded data removed]",
      "text/plain": [
       "<Figure size 360x360 with 1 Axes>"
      ]
     },
     "metadata": {
      "needs_background": "light"
     },
     "output_type": "display_data"
    }
   ],
   "source": [
    "fig = plt.figure(figsize=(5,5))\n",
    "sb.boxplot(df['newbalanceDest'])\n",
    "plt.show()"
   ]
  },
  {
   "cell_type": "code",
   "execution_count": 38,
   "id": "bdf61687",
   "metadata": {
    "ExecuteTime": {
     "end_time": "2022-05-26T18:49:24.005271Z",
     "start_time": "2022-05-26T18:49:23.991267Z"
    }
   },
   "outputs": [
    {
     "data": {
      "text/html": [
       "<div>\n",
       "<style scoped>\n",
       "    .dataframe tbody tr th:only-of-type {\n",
       "        vertical-align: middle;\n",
       "    }\n",
       "\n",
       "    .dataframe tbody tr th {\n",
       "        vertical-align: top;\n",
       "    }\n",
       "\n",
       "    .dataframe thead th {\n",
       "        text-align: right;\n",
       "    }\n",
       "</style>\n",
       "<table border=\"1\" class=\"dataframe\">\n",
       "  <thead>\n",
       "    <tr style=\"text-align: right;\">\n",
       "      <th></th>\n",
       "      <th>step</th>\n",
       "      <th>type</th>\n",
       "      <th>amount</th>\n",
       "      <th>nameOrig</th>\n",
       "      <th>oldbalanceOrg</th>\n",
       "      <th>newbalanceOrig</th>\n",
       "      <th>nameDest</th>\n",
       "      <th>oldbalanceDest</th>\n",
       "      <th>newbalanceDest</th>\n",
       "      <th>isFraud</th>\n",
       "      <th>isFlaggedFraud</th>\n",
       "    </tr>\n",
       "  </thead>\n",
       "  <tbody>\n",
       "    <tr>\n",
       "      <th>1</th>\n",
       "      <td>1</td>\n",
       "      <td>PAYMENT</td>\n",
       "      <td>1864.28</td>\n",
       "      <td>C1666544295</td>\n",
       "      <td>21249.00</td>\n",
       "      <td>19384.72</td>\n",
       "      <td>M2044282225</td>\n",
       "      <td>0.00</td>\n",
       "      <td>0.00</td>\n",
       "      <td>0</td>\n",
       "      <td>0</td>\n",
       "    </tr>\n",
       "    <tr>\n",
       "      <th>2</th>\n",
       "      <td>1</td>\n",
       "      <td>TRANSFER</td>\n",
       "      <td>181.00</td>\n",
       "      <td>C1305486145</td>\n",
       "      <td>181.00</td>\n",
       "      <td>0.00</td>\n",
       "      <td>C553264065</td>\n",
       "      <td>0.00</td>\n",
       "      <td>0.00</td>\n",
       "      <td>1</td>\n",
       "      <td>0</td>\n",
       "    </tr>\n",
       "    <tr>\n",
       "      <th>3</th>\n",
       "      <td>1</td>\n",
       "      <td>CASH_OUT</td>\n",
       "      <td>181.00</td>\n",
       "      <td>C840083671</td>\n",
       "      <td>181.00</td>\n",
       "      <td>0.00</td>\n",
       "      <td>C38997010</td>\n",
       "      <td>21182.00</td>\n",
       "      <td>0.00</td>\n",
       "      <td>1</td>\n",
       "      <td>0</td>\n",
       "    </tr>\n",
       "    <tr>\n",
       "      <th>4</th>\n",
       "      <td>1</td>\n",
       "      <td>PAYMENT</td>\n",
       "      <td>11668.14</td>\n",
       "      <td>C2048537720</td>\n",
       "      <td>41554.00</td>\n",
       "      <td>29885.86</td>\n",
       "      <td>M1230701703</td>\n",
       "      <td>0.00</td>\n",
       "      <td>0.00</td>\n",
       "      <td>0</td>\n",
       "      <td>0</td>\n",
       "    </tr>\n",
       "    <tr>\n",
       "      <th>5</th>\n",
       "      <td>1</td>\n",
       "      <td>PAYMENT</td>\n",
       "      <td>7817.71</td>\n",
       "      <td>C90045638</td>\n",
       "      <td>53860.00</td>\n",
       "      <td>46042.29</td>\n",
       "      <td>M573487274</td>\n",
       "      <td>0.00</td>\n",
       "      <td>0.00</td>\n",
       "      <td>0</td>\n",
       "      <td>0</td>\n",
       "    </tr>\n",
       "    <tr>\n",
       "      <th>...</th>\n",
       "      <td>...</td>\n",
       "      <td>...</td>\n",
       "      <td>...</td>\n",
       "      <td>...</td>\n",
       "      <td>...</td>\n",
       "      <td>...</td>\n",
       "      <td>...</td>\n",
       "      <td>...</td>\n",
       "      <td>...</td>\n",
       "      <td>...</td>\n",
       "      <td>...</td>\n",
       "    </tr>\n",
       "    <tr>\n",
       "      <th>6362605</th>\n",
       "      <td>742</td>\n",
       "      <td>CASH_OUT</td>\n",
       "      <td>54652.46</td>\n",
       "      <td>C43545501</td>\n",
       "      <td>54652.46</td>\n",
       "      <td>0.00</td>\n",
       "      <td>C830041824</td>\n",
       "      <td>0.00</td>\n",
       "      <td>54652.46</td>\n",
       "      <td>1</td>\n",
       "      <td>0</td>\n",
       "    </tr>\n",
       "    <tr>\n",
       "      <th>6362608</th>\n",
       "      <td>742</td>\n",
       "      <td>TRANSFER</td>\n",
       "      <td>258355.42</td>\n",
       "      <td>C1226129332</td>\n",
       "      <td>258355.42</td>\n",
       "      <td>0.00</td>\n",
       "      <td>C1744173808</td>\n",
       "      <td>0.00</td>\n",
       "      <td>0.00</td>\n",
       "      <td>1</td>\n",
       "      <td>0</td>\n",
       "    </tr>\n",
       "    <tr>\n",
       "      <th>6362609</th>\n",
       "      <td>742</td>\n",
       "      <td>CASH_OUT</td>\n",
       "      <td>258355.42</td>\n",
       "      <td>C1113162093</td>\n",
       "      <td>258355.42</td>\n",
       "      <td>0.00</td>\n",
       "      <td>C797688696</td>\n",
       "      <td>25176.67</td>\n",
       "      <td>283532.09</td>\n",
       "      <td>1</td>\n",
       "      <td>0</td>\n",
       "    </tr>\n",
       "    <tr>\n",
       "      <th>6362610</th>\n",
       "      <td>742</td>\n",
       "      <td>TRANSFER</td>\n",
       "      <td>63416.99</td>\n",
       "      <td>C778071008</td>\n",
       "      <td>63416.99</td>\n",
       "      <td>0.00</td>\n",
       "      <td>C1812552860</td>\n",
       "      <td>0.00</td>\n",
       "      <td>0.00</td>\n",
       "      <td>1</td>\n",
       "      <td>0</td>\n",
       "    </tr>\n",
       "    <tr>\n",
       "      <th>6362611</th>\n",
       "      <td>742</td>\n",
       "      <td>CASH_OUT</td>\n",
       "      <td>63416.99</td>\n",
       "      <td>C994950684</td>\n",
       "      <td>63416.99</td>\n",
       "      <td>0.00</td>\n",
       "      <td>C1662241365</td>\n",
       "      <td>276433.18</td>\n",
       "      <td>339850.17</td>\n",
       "      <td>1</td>\n",
       "      <td>0</td>\n",
       "    </tr>\n",
       "  </tbody>\n",
       "</table>\n",
       "<p>3251409 rows × 11 columns</p>\n",
       "</div>"
      ],
      "text/plain": [
       "         step      type     amount     nameOrig  oldbalanceOrg  \\\n",
       "1           1   PAYMENT    1864.28  C1666544295       21249.00   \n",
       "2           1  TRANSFER     181.00  C1305486145         181.00   \n",
       "3           1  CASH_OUT     181.00   C840083671         181.00   \n",
       "4           1   PAYMENT   11668.14  C2048537720       41554.00   \n",
       "5           1   PAYMENT    7817.71    C90045638       53860.00   \n",
       "...       ...       ...        ...          ...            ...   \n",
       "6362605   742  CASH_OUT   54652.46    C43545501       54652.46   \n",
       "6362608   742  TRANSFER  258355.42  C1226129332      258355.42   \n",
       "6362609   742  CASH_OUT  258355.42  C1113162093      258355.42   \n",
       "6362610   742  TRANSFER   63416.99   C778071008       63416.99   \n",
       "6362611   742  CASH_OUT   63416.99   C994950684       63416.99   \n",
       "\n",
       "         newbalanceOrig     nameDest  oldbalanceDest  newbalanceDest  isFraud  \\\n",
       "1              19384.72  M2044282225            0.00            0.00        0   \n",
       "2                  0.00   C553264065            0.00            0.00        1   \n",
       "3                  0.00    C38997010        21182.00            0.00        1   \n",
       "4              29885.86  M1230701703            0.00            0.00        0   \n",
       "5              46042.29   M573487274            0.00            0.00        0   \n",
       "...                 ...          ...             ...             ...      ...   \n",
       "6362605            0.00   C830041824            0.00        54652.46        1   \n",
       "6362608            0.00  C1744173808            0.00            0.00        1   \n",
       "6362609            0.00   C797688696        25176.67       283532.09        1   \n",
       "6362610            0.00  C1812552860            0.00            0.00        1   \n",
       "6362611            0.00  C1662241365       276433.18       339850.17        1   \n",
       "\n",
       "         isFlaggedFraud  \n",
       "1                     0  \n",
       "2                     0  \n",
       "3                     0  \n",
       "4                     0  \n",
       "5                     0  \n",
       "...                 ...  \n",
       "6362605               0  \n",
       "6362608               0  \n",
       "6362609               0  \n",
       "6362610               0  \n",
       "6362611               0  \n",
       "\n",
       "[3251409 rows x 11 columns]"
      ]
     },
     "execution_count": 38,
     "metadata": {},
     "output_type": "execute_result"
    }
   ],
   "source": [
    "df"
   ]
  },
  {
   "cell_type": "markdown",
   "id": "0dceb692",
   "metadata": {},
   "source": [
    "### multi-Collinearity"
   ]
  },
  {
   "cell_type": "code",
   "execution_count": 39,
   "id": "253cb30a",
   "metadata": {
    "ExecuteTime": {
     "end_time": "2022-05-26T18:49:24.480376Z",
     "start_time": "2022-05-26T18:49:24.009270Z"
    },
    "scrolled": true
   },
   "outputs": [
    {
     "data": {
      "text/html": [
       "<div>\n",
       "<style scoped>\n",
       "    .dataframe tbody tr th:only-of-type {\n",
       "        vertical-align: middle;\n",
       "    }\n",
       "\n",
       "    .dataframe tbody tr th {\n",
       "        vertical-align: top;\n",
       "    }\n",
       "\n",
       "    .dataframe thead th {\n",
       "        text-align: right;\n",
       "    }\n",
       "</style>\n",
       "<table border=\"1\" class=\"dataframe\">\n",
       "  <thead>\n",
       "    <tr style=\"text-align: right;\">\n",
       "      <th></th>\n",
       "      <th>step</th>\n",
       "      <th>amount</th>\n",
       "      <th>oldbalanceOrg</th>\n",
       "      <th>newbalanceOrig</th>\n",
       "      <th>oldbalanceDest</th>\n",
       "      <th>newbalanceDest</th>\n",
       "      <th>isFraud</th>\n",
       "      <th>isFlaggedFraud</th>\n",
       "    </tr>\n",
       "  </thead>\n",
       "  <tbody>\n",
       "    <tr>\n",
       "      <th>step</th>\n",
       "      <td>1.000000</td>\n",
       "      <td>-0.015587</td>\n",
       "      <td>0.004902</td>\n",
       "      <td>0.002425</td>\n",
       "      <td>-0.013375</td>\n",
       "      <td>-0.020412</td>\n",
       "      <td>0.024915</td>\n",
       "      <td>NaN</td>\n",
       "    </tr>\n",
       "    <tr>\n",
       "      <th>amount</th>\n",
       "      <td>-0.015587</td>\n",
       "      <td>1.000000</td>\n",
       "      <td>0.221993</td>\n",
       "      <td>-0.243114</td>\n",
       "      <td>0.391192</td>\n",
       "      <td>0.652562</td>\n",
       "      <td>0.007226</td>\n",
       "      <td>NaN</td>\n",
       "    </tr>\n",
       "    <tr>\n",
       "      <th>oldbalanceOrg</th>\n",
       "      <td>0.004902</td>\n",
       "      <td>0.221993</td>\n",
       "      <td>1.000000</td>\n",
       "      <td>0.402614</td>\n",
       "      <td>-0.026997</td>\n",
       "      <td>0.053182</td>\n",
       "      <td>0.088336</td>\n",
       "      <td>NaN</td>\n",
       "    </tr>\n",
       "    <tr>\n",
       "      <th>newbalanceOrig</th>\n",
       "      <td>0.002425</td>\n",
       "      <td>-0.243114</td>\n",
       "      <td>0.402614</td>\n",
       "      <td>1.000000</td>\n",
       "      <td>-0.142307</td>\n",
       "      <td>-0.199925</td>\n",
       "      <td>-0.012425</td>\n",
       "      <td>NaN</td>\n",
       "    </tr>\n",
       "    <tr>\n",
       "      <th>oldbalanceDest</th>\n",
       "      <td>-0.013375</td>\n",
       "      <td>0.391192</td>\n",
       "      <td>-0.026997</td>\n",
       "      <td>-0.142307</td>\n",
       "      <td>1.000000</td>\n",
       "      <td>0.937896</td>\n",
       "      <td>-0.006589</td>\n",
       "      <td>NaN</td>\n",
       "    </tr>\n",
       "    <tr>\n",
       "      <th>newbalanceDest</th>\n",
       "      <td>-0.020412</td>\n",
       "      <td>0.652562</td>\n",
       "      <td>0.053182</td>\n",
       "      <td>-0.199925</td>\n",
       "      <td>0.937896</td>\n",
       "      <td>1.000000</td>\n",
       "      <td>-0.007788</td>\n",
       "      <td>NaN</td>\n",
       "    </tr>\n",
       "    <tr>\n",
       "      <th>isFraud</th>\n",
       "      <td>0.024915</td>\n",
       "      <td>0.007226</td>\n",
       "      <td>0.088336</td>\n",
       "      <td>-0.012425</td>\n",
       "      <td>-0.006589</td>\n",
       "      <td>-0.007788</td>\n",
       "      <td>1.000000</td>\n",
       "      <td>NaN</td>\n",
       "    </tr>\n",
       "    <tr>\n",
       "      <th>isFlaggedFraud</th>\n",
       "      <td>NaN</td>\n",
       "      <td>NaN</td>\n",
       "      <td>NaN</td>\n",
       "      <td>NaN</td>\n",
       "      <td>NaN</td>\n",
       "      <td>NaN</td>\n",
       "      <td>NaN</td>\n",
       "      <td>NaN</td>\n",
       "    </tr>\n",
       "  </tbody>\n",
       "</table>\n",
       "</div>"
      ],
      "text/plain": [
       "                    step    amount  oldbalanceOrg  newbalanceOrig  \\\n",
       "step            1.000000 -0.015587       0.004902        0.002425   \n",
       "amount         -0.015587  1.000000       0.221993       -0.243114   \n",
       "oldbalanceOrg   0.004902  0.221993       1.000000        0.402614   \n",
       "newbalanceOrig  0.002425 -0.243114       0.402614        1.000000   \n",
       "oldbalanceDest -0.013375  0.391192      -0.026997       -0.142307   \n",
       "newbalanceDest -0.020412  0.652562       0.053182       -0.199925   \n",
       "isFraud         0.024915  0.007226       0.088336       -0.012425   \n",
       "isFlaggedFraud       NaN       NaN            NaN             NaN   \n",
       "\n",
       "                oldbalanceDest  newbalanceDest   isFraud  isFlaggedFraud  \n",
       "step                 -0.013375       -0.020412  0.024915             NaN  \n",
       "amount                0.391192        0.652562  0.007226             NaN  \n",
       "oldbalanceOrg        -0.026997        0.053182  0.088336             NaN  \n",
       "newbalanceOrig       -0.142307       -0.199925 -0.012425             NaN  \n",
       "oldbalanceDest        1.000000        0.937896 -0.006589             NaN  \n",
       "newbalanceDest        0.937896        1.000000 -0.007788             NaN  \n",
       "isFraud              -0.006589       -0.007788  1.000000             NaN  \n",
       "isFlaggedFraud             NaN             NaN       NaN             NaN  "
      ]
     },
     "execution_count": 39,
     "metadata": {},
     "output_type": "execute_result"
    }
   ],
   "source": [
    "# correlation matrix\n",
    "df.corr()"
   ]
  },
  {
   "cell_type": "code",
   "execution_count": 40,
   "id": "dadb93c8",
   "metadata": {
    "ExecuteTime": {
     "end_time": "2022-05-26T18:49:25.274555Z",
     "start_time": "2022-05-26T18:49:24.481377Z"
    }
   },
   "outputs": [
    {
     "data": {
      "text/html": [
       "<div>\n",
       "<style scoped>\n",
       "    .dataframe tbody tr th:only-of-type {\n",
       "        vertical-align: middle;\n",
       "    }\n",
       "\n",
       "    .dataframe tbody tr th {\n",
       "        vertical-align: top;\n",
       "    }\n",
       "\n",
       "    .dataframe thead th {\n",
       "        text-align: right;\n",
       "    }\n",
       "</style>\n",
       "<table border=\"1\" class=\"dataframe\">\n",
       "  <thead>\n",
       "    <tr style=\"text-align: right;\">\n",
       "      <th></th>\n",
       "      <th>step</th>\n",
       "      <th>type</th>\n",
       "      <th>amount</th>\n",
       "      <th>nameOrig</th>\n",
       "      <th>nameDest</th>\n",
       "      <th>oldbalanceDest</th>\n",
       "      <th>newbalanceDest</th>\n",
       "      <th>isFraud</th>\n",
       "    </tr>\n",
       "  </thead>\n",
       "  <tbody>\n",
       "    <tr>\n",
       "      <th>1</th>\n",
       "      <td>1</td>\n",
       "      <td>PAYMENT</td>\n",
       "      <td>1864.28</td>\n",
       "      <td>C1666544295</td>\n",
       "      <td>M2044282225</td>\n",
       "      <td>0.00</td>\n",
       "      <td>0.00</td>\n",
       "      <td>0</td>\n",
       "    </tr>\n",
       "    <tr>\n",
       "      <th>2</th>\n",
       "      <td>1</td>\n",
       "      <td>TRANSFER</td>\n",
       "      <td>181.00</td>\n",
       "      <td>C1305486145</td>\n",
       "      <td>C553264065</td>\n",
       "      <td>0.00</td>\n",
       "      <td>0.00</td>\n",
       "      <td>1</td>\n",
       "    </tr>\n",
       "    <tr>\n",
       "      <th>3</th>\n",
       "      <td>1</td>\n",
       "      <td>CASH_OUT</td>\n",
       "      <td>181.00</td>\n",
       "      <td>C840083671</td>\n",
       "      <td>C38997010</td>\n",
       "      <td>21182.00</td>\n",
       "      <td>0.00</td>\n",
       "      <td>1</td>\n",
       "    </tr>\n",
       "    <tr>\n",
       "      <th>4</th>\n",
       "      <td>1</td>\n",
       "      <td>PAYMENT</td>\n",
       "      <td>11668.14</td>\n",
       "      <td>C2048537720</td>\n",
       "      <td>M1230701703</td>\n",
       "      <td>0.00</td>\n",
       "      <td>0.00</td>\n",
       "      <td>0</td>\n",
       "    </tr>\n",
       "    <tr>\n",
       "      <th>5</th>\n",
       "      <td>1</td>\n",
       "      <td>PAYMENT</td>\n",
       "      <td>7817.71</td>\n",
       "      <td>C90045638</td>\n",
       "      <td>M573487274</td>\n",
       "      <td>0.00</td>\n",
       "      <td>0.00</td>\n",
       "      <td>0</td>\n",
       "    </tr>\n",
       "    <tr>\n",
       "      <th>...</th>\n",
       "      <td>...</td>\n",
       "      <td>...</td>\n",
       "      <td>...</td>\n",
       "      <td>...</td>\n",
       "      <td>...</td>\n",
       "      <td>...</td>\n",
       "      <td>...</td>\n",
       "      <td>...</td>\n",
       "    </tr>\n",
       "    <tr>\n",
       "      <th>6362605</th>\n",
       "      <td>742</td>\n",
       "      <td>CASH_OUT</td>\n",
       "      <td>54652.46</td>\n",
       "      <td>C43545501</td>\n",
       "      <td>C830041824</td>\n",
       "      <td>0.00</td>\n",
       "      <td>54652.46</td>\n",
       "      <td>1</td>\n",
       "    </tr>\n",
       "    <tr>\n",
       "      <th>6362608</th>\n",
       "      <td>742</td>\n",
       "      <td>TRANSFER</td>\n",
       "      <td>258355.42</td>\n",
       "      <td>C1226129332</td>\n",
       "      <td>C1744173808</td>\n",
       "      <td>0.00</td>\n",
       "      <td>0.00</td>\n",
       "      <td>1</td>\n",
       "    </tr>\n",
       "    <tr>\n",
       "      <th>6362609</th>\n",
       "      <td>742</td>\n",
       "      <td>CASH_OUT</td>\n",
       "      <td>258355.42</td>\n",
       "      <td>C1113162093</td>\n",
       "      <td>C797688696</td>\n",
       "      <td>25176.67</td>\n",
       "      <td>283532.09</td>\n",
       "      <td>1</td>\n",
       "    </tr>\n",
       "    <tr>\n",
       "      <th>6362610</th>\n",
       "      <td>742</td>\n",
       "      <td>TRANSFER</td>\n",
       "      <td>63416.99</td>\n",
       "      <td>C778071008</td>\n",
       "      <td>C1812552860</td>\n",
       "      <td>0.00</td>\n",
       "      <td>0.00</td>\n",
       "      <td>1</td>\n",
       "    </tr>\n",
       "    <tr>\n",
       "      <th>6362611</th>\n",
       "      <td>742</td>\n",
       "      <td>CASH_OUT</td>\n",
       "      <td>63416.99</td>\n",
       "      <td>C994950684</td>\n",
       "      <td>C1662241365</td>\n",
       "      <td>276433.18</td>\n",
       "      <td>339850.17</td>\n",
       "      <td>1</td>\n",
       "    </tr>\n",
       "  </tbody>\n",
       "</table>\n",
       "<p>3251409 rows × 8 columns</p>\n",
       "</div>"
      ],
      "text/plain": [
       "         step      type     amount     nameOrig     nameDest  oldbalanceDest  \\\n",
       "1           1   PAYMENT    1864.28  C1666544295  M2044282225            0.00   \n",
       "2           1  TRANSFER     181.00  C1305486145   C553264065            0.00   \n",
       "3           1  CASH_OUT     181.00   C840083671    C38997010        21182.00   \n",
       "4           1   PAYMENT   11668.14  C2048537720  M1230701703            0.00   \n",
       "5           1   PAYMENT    7817.71    C90045638   M573487274            0.00   \n",
       "...       ...       ...        ...          ...          ...             ...   \n",
       "6362605   742  CASH_OUT   54652.46    C43545501   C830041824            0.00   \n",
       "6362608   742  TRANSFER  258355.42  C1226129332  C1744173808            0.00   \n",
       "6362609   742  CASH_OUT  258355.42  C1113162093   C797688696        25176.67   \n",
       "6362610   742  TRANSFER   63416.99   C778071008  C1812552860            0.00   \n",
       "6362611   742  CASH_OUT   63416.99   C994950684  C1662241365       276433.18   \n",
       "\n",
       "         newbalanceDest  isFraud  \n",
       "1                  0.00        0  \n",
       "2                  0.00        1  \n",
       "3                  0.00        1  \n",
       "4                  0.00        0  \n",
       "5                  0.00        0  \n",
       "...                 ...      ...  \n",
       "6362605        54652.46        1  \n",
       "6362608            0.00        1  \n",
       "6362609       283532.09        1  \n",
       "6362610            0.00        1  \n",
       "6362611       339850.17        1  \n",
       "\n",
       "[3251409 rows x 8 columns]"
      ]
     },
     "execution_count": 40,
     "metadata": {},
     "output_type": "execute_result"
    }
   ],
   "source": [
    "# drop column oldbalanceOrg, newbalanceOrig\n",
    "df = df.drop(\"oldbalanceOrg\", axis=1)\n",
    "df = df.drop(\"newbalanceOrig\", axis=1)\n",
    "df = df.drop(\"isFlaggedFraud\", axis=1)\n",
    "df"
   ]
  },
  {
   "cell_type": "code",
   "execution_count": 41,
   "id": "988b9edd",
   "metadata": {
    "ExecuteTime": {
     "end_time": "2022-05-26T18:49:25.415587Z",
     "start_time": "2022-05-26T18:49:25.275556Z"
    }
   },
   "outputs": [
    {
     "data": {
      "text/plain": [
       "array(['PAYMENT', 'TRANSFER', 'CASH_OUT', 'DEBIT', 'CASH_IN'],\n",
       "      dtype=object)"
      ]
     },
     "execution_count": 41,
     "metadata": {},
     "output_type": "execute_result"
    }
   ],
   "source": [
    "df.type.unique()"
   ]
  },
  {
   "cell_type": "code",
   "execution_count": 42,
   "id": "55bd2b1e",
   "metadata": {
    "ExecuteTime": {
     "end_time": "2022-05-26T18:49:25.430590Z",
     "start_time": "2022-05-26T18:49:25.416588Z"
    }
   },
   "outputs": [
    {
     "data": {
      "text/plain": [
       "Index(['step', 'type', 'amount', 'nameOrig', 'nameDest', 'oldbalanceDest',\n",
       "       'newbalanceDest', 'isFraud'],\n",
       "      dtype='object')"
      ]
     },
     "execution_count": 42,
     "metadata": {},
     "output_type": "execute_result"
    }
   ],
   "source": [
    "df.columns"
   ]
  },
  {
   "cell_type": "code",
   "execution_count": 43,
   "id": "98364f26",
   "metadata": {
    "ExecuteTime": {
     "end_time": "2022-05-26T18:49:25.461598Z",
     "start_time": "2022-05-26T18:49:25.432593Z"
    }
   },
   "outputs": [
    {
     "data": {
      "text/html": [
       "<div>\n",
       "<style scoped>\n",
       "    .dataframe tbody tr th:only-of-type {\n",
       "        vertical-align: middle;\n",
       "    }\n",
       "\n",
       "    .dataframe tbody tr th {\n",
       "        vertical-align: top;\n",
       "    }\n",
       "\n",
       "    .dataframe thead th {\n",
       "        text-align: right;\n",
       "    }\n",
       "</style>\n",
       "<table border=\"1\" class=\"dataframe\">\n",
       "  <thead>\n",
       "    <tr style=\"text-align: right;\">\n",
       "      <th></th>\n",
       "      <th>step</th>\n",
       "      <th>type</th>\n",
       "      <th>amount</th>\n",
       "      <th>nameOrig</th>\n",
       "      <th>nameDest</th>\n",
       "      <th>oldbalanceDest</th>\n",
       "      <th>newbalanceDest</th>\n",
       "      <th>isFraud</th>\n",
       "    </tr>\n",
       "  </thead>\n",
       "  <tbody>\n",
       "    <tr>\n",
       "      <th>1</th>\n",
       "      <td>1</td>\n",
       "      <td>PAYMENT</td>\n",
       "      <td>1864.28</td>\n",
       "      <td>C1666544295</td>\n",
       "      <td>M2044282225</td>\n",
       "      <td>0.00</td>\n",
       "      <td>0.00</td>\n",
       "      <td>0</td>\n",
       "    </tr>\n",
       "    <tr>\n",
       "      <th>2</th>\n",
       "      <td>1</td>\n",
       "      <td>TRANSFER</td>\n",
       "      <td>181.00</td>\n",
       "      <td>C1305486145</td>\n",
       "      <td>C553264065</td>\n",
       "      <td>0.00</td>\n",
       "      <td>0.00</td>\n",
       "      <td>1</td>\n",
       "    </tr>\n",
       "    <tr>\n",
       "      <th>3</th>\n",
       "      <td>1</td>\n",
       "      <td>CASH_OUT</td>\n",
       "      <td>181.00</td>\n",
       "      <td>C840083671</td>\n",
       "      <td>C38997010</td>\n",
       "      <td>21182.00</td>\n",
       "      <td>0.00</td>\n",
       "      <td>1</td>\n",
       "    </tr>\n",
       "    <tr>\n",
       "      <th>4</th>\n",
       "      <td>1</td>\n",
       "      <td>PAYMENT</td>\n",
       "      <td>11668.14</td>\n",
       "      <td>C2048537720</td>\n",
       "      <td>M1230701703</td>\n",
       "      <td>0.00</td>\n",
       "      <td>0.00</td>\n",
       "      <td>0</td>\n",
       "    </tr>\n",
       "    <tr>\n",
       "      <th>5</th>\n",
       "      <td>1</td>\n",
       "      <td>PAYMENT</td>\n",
       "      <td>7817.71</td>\n",
       "      <td>C90045638</td>\n",
       "      <td>M573487274</td>\n",
       "      <td>0.00</td>\n",
       "      <td>0.00</td>\n",
       "      <td>0</td>\n",
       "    </tr>\n",
       "    <tr>\n",
       "      <th>...</th>\n",
       "      <td>...</td>\n",
       "      <td>...</td>\n",
       "      <td>...</td>\n",
       "      <td>...</td>\n",
       "      <td>...</td>\n",
       "      <td>...</td>\n",
       "      <td>...</td>\n",
       "      <td>...</td>\n",
       "    </tr>\n",
       "    <tr>\n",
       "      <th>6362605</th>\n",
       "      <td>742</td>\n",
       "      <td>CASH_OUT</td>\n",
       "      <td>54652.46</td>\n",
       "      <td>C43545501</td>\n",
       "      <td>C830041824</td>\n",
       "      <td>0.00</td>\n",
       "      <td>54652.46</td>\n",
       "      <td>1</td>\n",
       "    </tr>\n",
       "    <tr>\n",
       "      <th>6362608</th>\n",
       "      <td>742</td>\n",
       "      <td>TRANSFER</td>\n",
       "      <td>258355.42</td>\n",
       "      <td>C1226129332</td>\n",
       "      <td>C1744173808</td>\n",
       "      <td>0.00</td>\n",
       "      <td>0.00</td>\n",
       "      <td>1</td>\n",
       "    </tr>\n",
       "    <tr>\n",
       "      <th>6362609</th>\n",
       "      <td>742</td>\n",
       "      <td>CASH_OUT</td>\n",
       "      <td>258355.42</td>\n",
       "      <td>C1113162093</td>\n",
       "      <td>C797688696</td>\n",
       "      <td>25176.67</td>\n",
       "      <td>283532.09</td>\n",
       "      <td>1</td>\n",
       "    </tr>\n",
       "    <tr>\n",
       "      <th>6362610</th>\n",
       "      <td>742</td>\n",
       "      <td>TRANSFER</td>\n",
       "      <td>63416.99</td>\n",
       "      <td>C778071008</td>\n",
       "      <td>C1812552860</td>\n",
       "      <td>0.00</td>\n",
       "      <td>0.00</td>\n",
       "      <td>1</td>\n",
       "    </tr>\n",
       "    <tr>\n",
       "      <th>6362611</th>\n",
       "      <td>742</td>\n",
       "      <td>CASH_OUT</td>\n",
       "      <td>63416.99</td>\n",
       "      <td>C994950684</td>\n",
       "      <td>C1662241365</td>\n",
       "      <td>276433.18</td>\n",
       "      <td>339850.17</td>\n",
       "      <td>1</td>\n",
       "    </tr>\n",
       "  </tbody>\n",
       "</table>\n",
       "<p>3251409 rows × 8 columns</p>\n",
       "</div>"
      ],
      "text/plain": [
       "         step      type     amount     nameOrig     nameDest  oldbalanceDest  \\\n",
       "1           1   PAYMENT    1864.28  C1666544295  M2044282225            0.00   \n",
       "2           1  TRANSFER     181.00  C1305486145   C553264065            0.00   \n",
       "3           1  CASH_OUT     181.00   C840083671    C38997010        21182.00   \n",
       "4           1   PAYMENT   11668.14  C2048537720  M1230701703            0.00   \n",
       "5           1   PAYMENT    7817.71    C90045638   M573487274            0.00   \n",
       "...       ...       ...        ...          ...          ...             ...   \n",
       "6362605   742  CASH_OUT   54652.46    C43545501   C830041824            0.00   \n",
       "6362608   742  TRANSFER  258355.42  C1226129332  C1744173808            0.00   \n",
       "6362609   742  CASH_OUT  258355.42  C1113162093   C797688696        25176.67   \n",
       "6362610   742  TRANSFER   63416.99   C778071008  C1812552860            0.00   \n",
       "6362611   742  CASH_OUT   63416.99   C994950684  C1662241365       276433.18   \n",
       "\n",
       "         newbalanceDest  isFraud  \n",
       "1                  0.00        0  \n",
       "2                  0.00        1  \n",
       "3                  0.00        1  \n",
       "4                  0.00        0  \n",
       "5                  0.00        0  \n",
       "...                 ...      ...  \n",
       "6362605        54652.46        1  \n",
       "6362608            0.00        1  \n",
       "6362609       283532.09        1  \n",
       "6362610            0.00        1  \n",
       "6362611       339850.17        1  \n",
       "\n",
       "[3251409 rows x 8 columns]"
      ]
     },
     "execution_count": 43,
     "metadata": {},
     "output_type": "execute_result"
    }
   ],
   "source": [
    "df"
   ]
  },
  {
   "cell_type": "code",
   "execution_count": 44,
   "id": "3d23bd78",
   "metadata": {
    "ExecuteTime": {
     "end_time": "2022-05-26T18:49:26.202764Z",
     "start_time": "2022-05-26T18:49:25.463598Z"
    }
   },
   "outputs": [
    {
     "data": {
      "text/html": [
       "<div>\n",
       "<style scoped>\n",
       "    .dataframe tbody tr th:only-of-type {\n",
       "        vertical-align: middle;\n",
       "    }\n",
       "\n",
       "    .dataframe tbody tr th {\n",
       "        vertical-align: top;\n",
       "    }\n",
       "\n",
       "    .dataframe thead th {\n",
       "        text-align: right;\n",
       "    }\n",
       "</style>\n",
       "<table border=\"1\" class=\"dataframe\">\n",
       "  <thead>\n",
       "    <tr style=\"text-align: right;\">\n",
       "      <th></th>\n",
       "      <th>step</th>\n",
       "      <th>type</th>\n",
       "      <th>amount</th>\n",
       "      <th>nameOrig</th>\n",
       "      <th>nameDest</th>\n",
       "      <th>oldbalanceDest</th>\n",
       "      <th>newbalanceDest</th>\n",
       "      <th>isFraud</th>\n",
       "    </tr>\n",
       "  </thead>\n",
       "  <tbody>\n",
       "    <tr>\n",
       "      <th>1</th>\n",
       "      <td>1</td>\n",
       "      <td>3</td>\n",
       "      <td>1864.28</td>\n",
       "      <td>C1666544295</td>\n",
       "      <td>M2044282225</td>\n",
       "      <td>0.0</td>\n",
       "      <td>0.0</td>\n",
       "      <td>0</td>\n",
       "    </tr>\n",
       "    <tr>\n",
       "      <th>2</th>\n",
       "      <td>1</td>\n",
       "      <td>4</td>\n",
       "      <td>181.00</td>\n",
       "      <td>C1305486145</td>\n",
       "      <td>C553264065</td>\n",
       "      <td>0.0</td>\n",
       "      <td>0.0</td>\n",
       "      <td>1</td>\n",
       "    </tr>\n",
       "    <tr>\n",
       "      <th>3</th>\n",
       "      <td>1</td>\n",
       "      <td>1</td>\n",
       "      <td>181.00</td>\n",
       "      <td>C840083671</td>\n",
       "      <td>C38997010</td>\n",
       "      <td>21182.0</td>\n",
       "      <td>0.0</td>\n",
       "      <td>1</td>\n",
       "    </tr>\n",
       "    <tr>\n",
       "      <th>4</th>\n",
       "      <td>1</td>\n",
       "      <td>3</td>\n",
       "      <td>11668.14</td>\n",
       "      <td>C2048537720</td>\n",
       "      <td>M1230701703</td>\n",
       "      <td>0.0</td>\n",
       "      <td>0.0</td>\n",
       "      <td>0</td>\n",
       "    </tr>\n",
       "    <tr>\n",
       "      <th>5</th>\n",
       "      <td>1</td>\n",
       "      <td>3</td>\n",
       "      <td>7817.71</td>\n",
       "      <td>C90045638</td>\n",
       "      <td>M573487274</td>\n",
       "      <td>0.0</td>\n",
       "      <td>0.0</td>\n",
       "      <td>0</td>\n",
       "    </tr>\n",
       "  </tbody>\n",
       "</table>\n",
       "</div>"
      ],
      "text/plain": [
       "   step  type    amount     nameOrig     nameDest  oldbalanceDest  \\\n",
       "1     1     3   1864.28  C1666544295  M2044282225             0.0   \n",
       "2     1     4    181.00  C1305486145   C553264065             0.0   \n",
       "3     1     1    181.00   C840083671    C38997010         21182.0   \n",
       "4     1     3  11668.14  C2048537720  M1230701703             0.0   \n",
       "5     1     3   7817.71    C90045638   M573487274             0.0   \n",
       "\n",
       "   newbalanceDest  isFraud  \n",
       "1             0.0        0  \n",
       "2             0.0        1  \n",
       "3             0.0        1  \n",
       "4             0.0        0  \n",
       "5             0.0        0  "
      ]
     },
     "execution_count": 44,
     "metadata": {},
     "output_type": "execute_result"
    }
   ],
   "source": [
    "## applying label encoding on type column \n",
    "lab = [\"type\"]\n",
    "encod = LabelEncoder()\n",
    "for i in lab:\n",
    "    df[i] = encod.fit_transform(df[i])\n",
    "df.head()"
   ]
  },
  {
   "cell_type": "code",
   "execution_count": 45,
   "id": "6c28fb6f",
   "metadata": {
    "ExecuteTime": {
     "end_time": "2022-05-26T18:49:26.804900Z",
     "start_time": "2022-05-26T18:49:26.203764Z"
    },
    "scrolled": false
   },
   "outputs": [
    {
     "data": {
      "text/plain": [
       "<seaborn.matrix.ClusterGrid at 0x2ba1a2708e0>"
      ]
     },
     "execution_count": 45,
     "metadata": {},
     "output_type": "execute_result"
    },
    {
     "data": {
      "image/png": "[encoded data removed]",
      "text/plain": [
       "<Figure size 720x720 with 4 Axes>"
      ]
     },
     "metadata": {
      "needs_background": "light"
     },
     "output_type": "display_data"
    }
   ],
   "source": [
    "## Cluster Map\n",
    "sb.clustermap(df.corr(),cmap='Blues',annot=True)"
   ]
  },
  {
   "cell_type": "markdown",
   "id": "bbf65685",
   "metadata": {},
   "source": [
    "### Dropping string values"
   ]
  },
  {
   "cell_type": "code",
   "execution_count": 46,
   "id": "662b65f5",
   "metadata": {
    "ExecuteTime": {
     "end_time": "2022-05-26T18:49:26.946932Z",
     "start_time": "2022-05-26T18:49:26.805901Z"
    }
   },
   "outputs": [],
   "source": [
    "df.drop(['nameOrig'],axis=1,inplace=True)"
   ]
  },
  {
   "cell_type": "code",
   "execution_count": 47,
   "id": "11c08ee2",
   "metadata": {
    "ExecuteTime": {
     "end_time": "2022-05-26T18:49:27.088964Z",
     "start_time": "2022-05-26T18:49:26.947933Z"
    }
   },
   "outputs": [],
   "source": [
    "df.drop(['nameDest'],axis=1,inplace=True)"
   ]
  },
  {
   "cell_type": "code",
   "execution_count": 48,
   "id": "9dcfd1c8",
   "metadata": {
    "ExecuteTime": {
     "end_time": "2022-05-26T18:55:00.510473Z",
     "start_time": "2022-05-26T18:55:00.487469Z"
    }
   },
   "outputs": [
    {
     "data": {
      "text/html": [
       "<div>\n",
       "<style scoped>\n",
       "    .dataframe tbody tr th:only-of-type {\n",
       "        vertical-align: middle;\n",
       "    }\n",
       "\n",
       "    .dataframe tbody tr th {\n",
       "        vertical-align: top;\n",
       "    }\n",
       "\n",
       "    .dataframe thead th {\n",
       "        text-align: right;\n",
       "    }\n",
       "</style>\n",
       "<table border=\"1\" class=\"dataframe\">\n",
       "  <thead>\n",
       "    <tr style=\"text-align: right;\">\n",
       "      <th></th>\n",
       "      <th>step</th>\n",
       "      <th>type</th>\n",
       "      <th>amount</th>\n",
       "      <th>oldbalanceDest</th>\n",
       "      <th>newbalanceDest</th>\n",
       "      <th>isFraud</th>\n",
       "    </tr>\n",
       "  </thead>\n",
       "  <tbody>\n",
       "    <tr>\n",
       "      <th>1</th>\n",
       "      <td>1</td>\n",
       "      <td>3</td>\n",
       "      <td>1864.28</td>\n",
       "      <td>0.00</td>\n",
       "      <td>0.00</td>\n",
       "      <td>0</td>\n",
       "    </tr>\n",
       "    <tr>\n",
       "      <th>2</th>\n",
       "      <td>1</td>\n",
       "      <td>4</td>\n",
       "      <td>181.00</td>\n",
       "      <td>0.00</td>\n",
       "      <td>0.00</td>\n",
       "      <td>1</td>\n",
       "    </tr>\n",
       "    <tr>\n",
       "      <th>3</th>\n",
       "      <td>1</td>\n",
       "      <td>1</td>\n",
       "      <td>181.00</td>\n",
       "      <td>21182.00</td>\n",
       "      <td>0.00</td>\n",
       "      <td>1</td>\n",
       "    </tr>\n",
       "    <tr>\n",
       "      <th>4</th>\n",
       "      <td>1</td>\n",
       "      <td>3</td>\n",
       "      <td>11668.14</td>\n",
       "      <td>0.00</td>\n",
       "      <td>0.00</td>\n",
       "      <td>0</td>\n",
       "    </tr>\n",
       "    <tr>\n",
       "      <th>5</th>\n",
       "      <td>1</td>\n",
       "      <td>3</td>\n",
       "      <td>7817.71</td>\n",
       "      <td>0.00</td>\n",
       "      <td>0.00</td>\n",
       "      <td>0</td>\n",
       "    </tr>\n",
       "    <tr>\n",
       "      <th>...</th>\n",
       "      <td>...</td>\n",
       "      <td>...</td>\n",
       "      <td>...</td>\n",
       "      <td>...</td>\n",
       "      <td>...</td>\n",
       "      <td>...</td>\n",
       "    </tr>\n",
       "    <tr>\n",
       "      <th>6362605</th>\n",
       "      <td>742</td>\n",
       "      <td>1</td>\n",
       "      <td>54652.46</td>\n",
       "      <td>0.00</td>\n",
       "      <td>54652.46</td>\n",
       "      <td>1</td>\n",
       "    </tr>\n",
       "    <tr>\n",
       "      <th>6362608</th>\n",
       "      <td>742</td>\n",
       "      <td>4</td>\n",
       "      <td>258355.42</td>\n",
       "      <td>0.00</td>\n",
       "      <td>0.00</td>\n",
       "      <td>1</td>\n",
       "    </tr>\n",
       "    <tr>\n",
       "      <th>6362609</th>\n",
       "      <td>742</td>\n",
       "      <td>1</td>\n",
       "      <td>258355.42</td>\n",
       "      <td>25176.67</td>\n",
       "      <td>283532.09</td>\n",
       "      <td>1</td>\n",
       "    </tr>\n",
       "    <tr>\n",
       "      <th>6362610</th>\n",
       "      <td>742</td>\n",
       "      <td>4</td>\n",
       "      <td>63416.99</td>\n",
       "      <td>0.00</td>\n",
       "      <td>0.00</td>\n",
       "      <td>1</td>\n",
       "    </tr>\n",
       "    <tr>\n",
       "      <th>6362611</th>\n",
       "      <td>742</td>\n",
       "      <td>1</td>\n",
       "      <td>63416.99</td>\n",
       "      <td>276433.18</td>\n",
       "      <td>339850.17</td>\n",
       "      <td>1</td>\n",
       "    </tr>\n",
       "  </tbody>\n",
       "</table>\n",
       "<p>3251409 rows × 6 columns</p>\n",
       "</div>"
      ],
      "text/plain": [
       "         step  type     amount  oldbalanceDest  newbalanceDest  isFraud\n",
       "1           1     3    1864.28            0.00            0.00        0\n",
       "2           1     4     181.00            0.00            0.00        1\n",
       "3           1     1     181.00        21182.00            0.00        1\n",
       "4           1     3   11668.14            0.00            0.00        0\n",
       "5           1     3    7817.71            0.00            0.00        0\n",
       "...       ...   ...        ...             ...             ...      ...\n",
       "6362605   742     1   54652.46            0.00        54652.46        1\n",
       "6362608   742     4  258355.42            0.00            0.00        1\n",
       "6362609   742     1  258355.42        25176.67       283532.09        1\n",
       "6362610   742     4   63416.99            0.00            0.00        1\n",
       "6362611   742     1   63416.99       276433.18       339850.17        1\n",
       "\n",
       "[3251409 rows x 6 columns]"
      ]
     },
     "execution_count": 48,
     "metadata": {},
     "output_type": "execute_result"
    }
   ],
   "source": [
    "df"
   ]
  },
  {
   "cell_type": "code",
   "execution_count": 49,
   "id": "3f411e77",
   "metadata": {
    "ExecuteTime": {
     "end_time": "2022-05-26T18:55:00.920049Z",
     "start_time": "2022-05-26T18:55:00.807024Z"
    },
    "scrolled": true
   },
   "outputs": [
    {
     "data": {
      "text/plain": [
       "Text(0, 0.5, 'Frequency')"
      ]
     },
     "execution_count": 49,
     "metadata": {},
     "output_type": "execute_result"
    },
    {
     "data": {
      "image/png": "[encoded data removed]",
      "text/plain": [
       "<Figure size 432x288 with 1 Axes>"
      ]
     },
     "metadata": {
      "needs_background": "light"
     },
     "output_type": "display_data"
    }
   ],
   "source": [
    "count_fraud = pd.value_counts(df['isFraud'], sort = True)\n",
    "count_fraud.plot(kind='bar', rot=0)\n",
    "plt.title(\"Fradulent Transaction Distribution\")\n",
    "LABELS = [\"Normal\", \"Fraud\"]\n",
    "plt.xticks(range(2), LABELS)\n",
    "plt.xlabel(\"isFraud\")\n",
    "plt.ylabel(\"Frequency\")"
   ]
  },
  {
   "cell_type": "markdown",
   "id": "6631b95c",
   "metadata": {},
   "source": [
    "## Training"
   ]
  },
  {
   "cell_type": "code",
   "execution_count": 50,
   "id": "4815248a",
   "metadata": {
    "ExecuteTime": {
     "end_time": "2022-05-26T18:55:02.081064Z",
     "start_time": "2022-05-26T18:55:01.526940Z"
    }
   },
   "outputs": [
    {
     "data": {
      "text/plain": [
       "((3218894, 5), (32515, 5))"
      ]
     },
     "execution_count": 50,
     "metadata": {},
     "output_type": "execute_result"
    }
   ],
   "source": [
    "Y = df.drop('isFraud',axis=1)\n",
    "\n",
    "# train split - 90%, test split - 10%\n",
    "X_train, X_test, Y_train, Y_test = train_test_split(Y, df['isFraud'], test_size=0.01, shuffle=True)\n",
    "X_train.shape, X_test.shape"
   ]
  },
  {
   "cell_type": "markdown",
   "id": "e695e7d4",
   "metadata": {
    "ExecuteTime": {
     "end_time": "2022-05-26T11:19:21.453064Z",
     "start_time": "2022-05-26T11:19:21.437060Z"
    }
   },
   "source": [
    "## Models"
   ]
  },
  {
   "cell_type": "markdown",
   "id": "3aec4dfe",
   "metadata": {},
   "source": [
    "### Logistic Regression"
   ]
  },
  {
   "cell_type": "code",
   "execution_count": 51,
   "id": "a5c61bc8",
   "metadata": {
    "ExecuteTime": {
     "end_time": "2022-05-26T18:55:21.761321Z",
     "start_time": "2022-05-26T18:55:02.588193Z"
    }
   },
   "outputs": [
    {
     "data": {
      "text/plain": [
       "LogisticRegression()"
      ]
     },
     "execution_count": 51,
     "metadata": {},
     "output_type": "execute_result"
    }
   ],
   "source": [
    "# MODEL 1\n",
    "# Logistic Regression \n",
    "LogReg = LogisticRegression()\n",
    "LogReg.fit(X_train, Y_train)\n",
    "# print(\"Accuracy:\",LogReg.score(X_test, Y_test))"
   ]
  },
  {
   "cell_type": "markdown",
   "id": "5dc4df37",
   "metadata": {},
   "source": [
    "### XGBoost Classifier"
   ]
  },
  {
   "cell_type": "code",
   "execution_count": 52,
   "id": "1ba42d73",
   "metadata": {
    "ExecuteTime": {
     "end_time": "2022-05-26T18:57:03.449373Z",
     "start_time": "2022-05-26T18:55:22.124403Z"
    },
    "scrolled": true
   },
   "outputs": [
    {
     "name": "stdout",
     "output_type": "stream",
     "text": [
      "[00:25:23] WARNING: ..\\src\\learner.cc:1115: Starting in XGBoost 1.3.0, the default evaluation metric used with the objective 'binary:logistic' was changed from 'error' to 'logloss'. Explicitly set eval_metric if you'd like to restore the old behavior.\n"
     ]
    },
    {
     "data": {
      "text/plain": [
       "XGBClassifier(base_score=0.5, booster='gbtree', colsample_bylevel=1,\n",
       "              colsample_bynode=1, colsample_bytree=1, enable_categorical=False,\n",
       "              gamma=0, gpu_id=-1, importance_type=None,\n",
       "              interaction_constraints='', learning_rate=0.300000012,\n",
       "              max_delta_step=0, max_depth=6, min_child_weight=1, missing=nan,\n",
       "              monotone_constraints='()', n_estimators=100, n_jobs=16,\n",
       "              num_parallel_tree=1, predictor='auto', random_state=0,\n",
       "              reg_alpha=0, reg_lambda=1, scale_pos_weight=1, subsample=1,\n",
       "              tree_method='exact', validate_parameters=1, verbosity=None)"
      ]
     },
     "execution_count": 52,
     "metadata": {},
     "output_type": "execute_result"
    }
   ],
   "source": [
    "# MODEL 2\n",
    "# XGBoost Classifier\n",
    "xgbReg = XGBClassifier()\n",
    "xgbReg.fit(X_train, Y_train)\n",
    "# print(\"Accuracy:\",xgbReg.score(X_test, Y_test))"
   ]
  },
  {
   "cell_type": "markdown",
   "id": "2e729f1f",
   "metadata": {},
   "source": [
    "### K Neighbors Classifier"
   ]
  },
  {
   "cell_type": "code",
   "execution_count": 53,
   "id": "9cccdf93",
   "metadata": {
    "ExecuteTime": {
     "end_time": "2022-05-26T18:57:14.828737Z",
     "start_time": "2022-05-26T18:57:03.801452Z"
    }
   },
   "outputs": [
    {
     "data": {
      "text/plain": [
       "KNeighborsClassifier()"
      ]
     },
     "execution_count": 53,
     "metadata": {},
     "output_type": "execute_result"
    }
   ],
   "source": [
    "# MODEL 3\n",
    "# K Neighbors classifier\n",
    "kneighbClass = KNeighborsClassifier()\n",
    "kneighbClass.fit(X_train, Y_train)\n",
    "# print(\"Accuracy:\",kneighbClass.score(X_test, Y_test))"
   ]
  },
  {
   "cell_type": "markdown",
   "id": "8b0d0af0",
   "metadata": {},
   "source": [
    "### Decision Tree"
   ]
  },
  {
   "cell_type": "code",
   "execution_count": 54,
   "id": "70699394",
   "metadata": {
    "ExecuteTime": {
     "end_time": "2022-05-26T18:57:39.723611Z",
     "start_time": "2022-05-26T18:57:15.181821Z"
    }
   },
   "outputs": [
    {
     "data": {
      "text/plain": [
       "DecisionTreeClassifier(criterion='entropy')"
      ]
     },
     "execution_count": 54,
     "metadata": {},
     "output_type": "execute_result"
    }
   ],
   "source": [
    "#MODEL 4\n",
    "# Decision Tree\n",
    "desicionTree = DecisionTreeClassifier(criterion = 'entropy')\n",
    "desicionTree.fit(X_train, Y_train)\n",
    "# print(\"Accuracy:\",desicionTree.score(X_test, Y_test))"
   ]
  },
  {
   "cell_type": "markdown",
   "id": "3ef0fad1",
   "metadata": {},
   "source": [
    "## Accuracy of All Models"
   ]
  },
  {
   "cell_type": "code",
   "execution_count": 55,
   "id": "2035cb45",
   "metadata": {
    "ExecuteTime": {
     "end_time": "2022-05-26T18:57:42.238284Z",
     "start_time": "2022-05-26T18:57:40.074797Z"
    }
   },
   "outputs": [
    {
     "name": "stdout",
     "output_type": "stream",
     "text": [
      "Logistic Regression\n",
      "Accuracy: 0.9991388589881594\n",
      "\n",
      "XGBoost Classifier\n",
      "Accuracy: 0.999630939566354\n",
      "\n",
      "K Neighbors Classifier\n",
      "Accuracy: 0.9991388589881594\n",
      "\n",
      "Decision Tree Classifier\n",
      "Accuracy: 0.9993233892049823\n"
     ]
    }
   ],
   "source": [
    "# Logistic Regression\n",
    "print(\"Logistic Regression\")\n",
    "print(\"Accuracy:\",LogReg.score(X_test, Y_test))\n",
    "# XGBoost Classifier\n",
    "print(\"\\nXGBoost Classifier\")\n",
    "print(\"Accuracy:\",xgbReg.score(X_test, Y_test))\n",
    "# K Neighbours classifier\n",
    "print(\"\\nK Neighbors Classifier\")\n",
    "print(\"Accuracy:\",kneighbClass.score(X_test, Y_test))\n",
    "# Decision Tree Classifier\n",
    "print(\"\\nDecision Tree Classifier\")\n",
    "print(\"Accuracy:\",desicionTree.score(X_test, Y_test))"
   ]
  },
  {
   "cell_type": "markdown",
   "id": "5b4fc4e8",
   "metadata": {},
   "source": [
    "<font size=5>__Best Model out of all the 4 models is XGBoost giving us a Test accuracy of <font color=\"green\">99.96%</font>__</font>"
   ]
  },
  {
   "cell_type": "markdown",
   "id": "c72cc5ee",
   "metadata": {
    "ExecuteTime": {
     "end_time": "2022-05-26T19:34:33.262309Z",
     "start_time": "2022-05-26T19:34:33.230302Z"
    }
   },
   "source": [
    "<Font size=5>__FRAUD DETECTION MODEL__</Font>\n",
    "\n",
    "<Font size=4>__TASKS__</Font>\n",
    "\n",
    "<Font size=3>__1. Data cleaning including missing values, outliers and multi-collinearity.__</Font>\n",
    "\n",
    "<Font size=3>There are no missing values in the dataset. The outliers have been removed from the given data set as well as the multi-collinearity.</Font>\n",
    "\n",
    "<Font size=3>__2. Describe your fraud detection model in elaboration.__</Font>\n",
    "\n",
    "<Font size=3>For the given assignment we are given a dataset of __6362620__ values. The dataset is first preprocessed by removing missing/NULL values, outliers, and multi-collinearity. The columns in the dataset that are having data-type of String are of no use so were dropped. After this, the preprocessed dataset is split into two, the training dataset __(90%, which is 32,18,894 values)__ and the test dataset __(10%, which is 32515 values)__. Now the split training dataset is fed to the models for prediction. We have used 4 models for finding which one gives the best accuracy out of all. The 4 models used are Logistic Regression, XGBoost Classifier, K Neighbors Classifier, and Decision Tree Classifier. The best accuracy out of all the models was of the XGBoost classifier with an accuracy of __99.96%__.</Font>\n",
    "\n",
    "<Font size=3>__3. How did you select variables to be included in the model?__</Font>\n",
    "\n",
    "<Font size=3>We choose Classifying algorithms for our model as we want our model to classify between Fraudulent and Non Fraudulent transactions. Using the correlation matrix we found the important values that are needed in our dataset.</Font>\n",
    "\n",
    "<Font size=3>__4. Demonstrate the performance of the model by using best set of tools.__</Font> \n",
    "\n",
    "<Font size=3>We have used the best set of classifiers for making this model. We have used Logistic Regression, K Neighbors Classifier, and Decision Tree Classifier which are different models of the framework scikit learn. We have also used the XGBoost classifier which is of the framework XGBoost. All the frameworks that are used are open-source. Out of all the models used XGBoost is the best.</Font>\n",
    "\n",
    "<Font size=3>__5. What are the key factors that predict fraudulent customer?__</Font> \n",
    "\n",
    "<Font size=3>The key factor that helps in predicting the fraudulent customers is the oldbalanceOrg column in the dataset. We can see that in the correlation matrix, as the correlation between isFraud and oldbalanceOrg is the highest.</Font>\n",
    "\n",
    "<Font size=3>__6. Do these factors make sense? If yes, How? If not, How not?__</Font>\n",
    "\n",
    "<Font size=3>Yes, these factors make sense as the oldbalanceOrg column represents the initial balance before the transaction. Thus we can see the prediction of the fraudulent customers by checking the old balance with respect to the newbalanceOrig and amount.</Font>\n",
    "\n",
    "<Font size=3>__7. What kind of prevention should be adopted while company update its infrastructure?__</Font> \n",
    "\n",
    "<Font size=3>The pipeline that the company adopts should be agile and extensible. It should be capable of accommodating updates to its ML frameworks. By setting a restore point to rollback changes if the update is not implemented properly, we can assure that the older system will still be functional and accessible. The newer model can be rolled out simultaneously at first, to see if it is performing as per expectation on a test branch, which will be monitored closely.</Font> \n",
    "\n",
    "<Font size=3>__8. Assuming these actions have been implemented, how would you determine if they work?__</Font>\n",
    "\n",
    "<Font size=3>If the newer model’s real-life performance rate exceeds that of the existing infrastructure, a rolling update can be put in place, such that there is no delay in the service going live once it is ready. False positive or true negatives can be noted, and the model can be updated once there is a significant departure from its expected accuracy.</Font>"
   ]
  }
 ],
 "metadata": {
  "kernelspec": {
   "display_name": "Python 3 (ipykernel)",
   "language": "python",
   "name": "python3"
  },
  "language_info": {
   "codemirror_mode": {
    "name": "ipython",
    "version": 3
   },
   "file_extension": ".py",
   "mimetype": "text/x-python",
   "name": "python",
   "nbconvert_exporter": "python",
   "pygments_lexer": "ipython3",
   "version": "3.8.8"
  },
  "toc": {
   "base_numbering": 1,
   "nav_menu": {},
   "number_sections": true,
   "sideBar": true,
   "skip_h1_title": false,
   "title_cell": "Table of Contents",
   "title_sidebar": "Contents",
   "toc_cell": false,
   "toc_position": {},
   "toc_section_display": true,
   "toc_window_display": false
  },
  "varInspector": {
   "cols": {
    "lenName": 16,
    "lenType": 16,
    "lenVar": 40
   },
   "kernels_config": {
    "python": {
     "delete_cmd_postfix": "",
     "delete_cmd_prefix": "del ",
     "library": "var_list.py",
     "varRefreshCmd": "print(var_dic_list())"
    },
    "r": {
     "delete_cmd_postfix": ") ",
     "delete_cmd_prefix": "rm(",
     "library": "var_list.r",
     "varRefreshCmd": "cat(var_dic_list()) "
    }
   },
   "types_to_exclude": [
    "module",
    "function",
    "builtin_function_or_method",
    "instance",
    "_Feature"
   ],
   "window_display": false
  }
 },
 "nbformat": 4,
 "nbformat_minor": 5
}
